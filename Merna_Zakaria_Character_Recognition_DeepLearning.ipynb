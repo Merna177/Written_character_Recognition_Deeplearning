{
  "nbformat": 4,
  "nbformat_minor": 0,
  "metadata": {
    "colab": {
      "name": "Merna_Zakaria_Character_Recognition_DeepLearning.ipynb",
      "version": "0.3.2",
      "provenance": [],
      "include_colab_link": true
    },
    "kernelspec": {
      "name": "python3",
      "display_name": "Python 3"
    }
  },
  "cells": [
    {
      "cell_type": "markdown",
      "metadata": {
        "id": "view-in-github",
        "colab_type": "text"
      },
      "source": [
        "<a href=\"https://colab.research.google.com/github/Merna177/Written_character_Recognition_Deeplearning/blob/master/Merna_Zakaria_Character_Recognition_DeepLearning.ipynb\" target=\"_parent\"><img src=\"https://colab.research.google.com/assets/colab-badge.svg\" alt=\"Open In Colab\"/></a>"
      ]
    },
    {
      "cell_type": "code",
      "metadata": {
        "id": "E0opgkaMl2Xr",
        "colab_type": "code",
        "outputId": "5f295169-ca1e-4ed0-d5ad-ed80ffd57ee9",
        "colab": {
          "base_uri": "https://localhost:8080/",
          "height": 126
        }
      },
      "source": [
        "from google.colab import drive \n",
        "drive.mount('/content/drive')"
      ],
      "execution_count": 1,
      "outputs": [
        {
          "output_type": "stream",
          "text": [
            "Go to this URL in a browser: https://accounts.google.com/o/oauth2/auth?client_id=947318989803-6bn6qk8qdgf4n4g3pfee6491hc0brc4i.apps.googleusercontent.com&redirect_uri=urn%3Aietf%3Awg%3Aoauth%3A2.0%3Aoob&scope=email%20https%3A%2F%2Fwww.googleapis.com%2Fauth%2Fdocs.test%20https%3A%2F%2Fwww.googleapis.com%2Fauth%2Fdrive%20https%3A%2F%2Fwww.googleapis.com%2Fauth%2Fdrive.photos.readonly%20https%3A%2F%2Fwww.googleapis.com%2Fauth%2Fpeopleapi.readonly&response_type=code\n",
            "\n",
            "Enter your authorization code:\n",
            "··········\n",
            "Mounted at /content/drive\n"
          ],
          "name": "stdout"
        }
      ]
    },
    {
      "cell_type": "markdown",
      "metadata": {
        "id": "wZ1RtUnSnkRV",
        "colab_type": "text"
      },
      "source": [
        "\n",
        "\n",
        "\n",
        "Path Of the file"
      ]
    },
    {
      "cell_type": "code",
      "metadata": {
        "id": "cPvoEASjnpUi",
        "colab_type": "code",
        "outputId": "875ab7a0-4157-40ce-da48-92db5e63636d",
        "colab": {
          "base_uri": "https://localhost:8080/",
          "height": 35
        }
      },
      "source": [
        "\n",
        "!ls \"/content/drive/My Drive/DS\"\n",
        "data = \"/content/drive/My Drive/DS/Merna_Zakaria_Character_Recognition_DataSet/\""
      ],
      "execution_count": 2,
      "outputs": [
        {
          "output_type": "stream",
          "text": [
            "Merna_Zakaria_Character_Recognition_DataSet  validFiles_2.csv  validFiles.csv\n"
          ],
          "name": "stdout"
        }
      ]
    },
    {
      "cell_type": "code",
      "metadata": {
        "id": "eShFUY7Qt1IM",
        "colab_type": "code",
        "colab": {}
      },
      "source": [
        "import matplotlib.pyplot as plt\n",
        "import numpy as np\n",
        "import os\n",
        "import keras\n",
        "import pandas as pd\n",
        "import csv\n",
        "import tqdm\n",
        "import string\n",
        "import re\n",
        "from google.colab import drive \n",
        "from tqdm import trange\n",
        "alphabetics  = ['a','b','c','d','e','f','g','h','i','j','k','l','m','n','o','p','q','r','s','t','u','v','w','x','y','z']\n"
      ],
      "execution_count": 0,
      "outputs": []
    },
    {
      "cell_type": "markdown",
      "metadata": {
        "id": "qJ31SzXLpFyb",
        "colab_type": "text"
      },
      "source": [
        "number of digit labels--> 1819\n",
        "number of letter  labels -->4734"
      ]
    },
    {
      "cell_type": "markdown",
      "metadata": {
        "id": "dXROTSZ-cNs4",
        "colab_type": "text"
      },
      "source": [
        ""
      ]
    },
    {
      "cell_type": "markdown",
      "metadata": {
        "id": "piFlUzbCD2Jl",
        "colab_type": "text"
      },
      "source": [
        "Prepare dataset list & label list"
      ]
    },
    {
      "cell_type": "code",
      "metadata": {
        "id": "SvMMciJOD5rV",
        "colab_type": "code",
        "outputId": "9ef9cbef-c9cd-454f-ff33-553de36cef82",
        "colab": {
          "base_uri": "https://localhost:8080/",
          "height": 35
        }
      },
      "source": [
        "def checker(row):\n",
        "  if (len(row) > 0):\n",
        "    return(row[0].isnumeric())\n",
        "  return False\n",
        "\n",
        "\n",
        "dataset = np.zeros((6553,1414))\n",
        "labels = np.zeros((6553,1))\n",
        "\n",
        "with open ('/content/drive/My Drive/DS/validFiles.csv') as csv_file:\n",
        "  data = np.array([row for row in csv.reader(csv_file,delimiter=',')])\n",
        "  for i in trange(len(data)):\n",
        "    with open (data[i][0]) as csv_file_:\n",
        "      csv_reader = csv.reader(csv_file_, delimiter=',')\n",
        "      example = np.array([row[1:] for row in csv_reader if checker(row)],dtype =float).flatten()\n",
        "      dataset[i] = np.pad(example, (0, 1414 - len(example)), 'constant')\n",
        "      labels[i] = int(data[i][1])"
      ],
      "execution_count": 344,
      "outputs": [
        {
          "output_type": "stream",
          "text": [
            "100%|██████████| 6553/6553 [00:13<00:00, 496.84it/s]\n"
          ],
          "name": "stderr"
        }
      ]
    },
    {
      "cell_type": "code",
      "metadata": {
        "id": "cpMjkRgcDM2c",
        "colab_type": "code",
        "colab": {}
      },
      "source": [
        "dataset = np.resize(dataset,(661853,14))\n",
        "labels  = np.array(labels).flatten()"
      ],
      "execution_count": 0,
      "outputs": []
    },
    {
      "cell_type": "code",
      "metadata": {
        "id": "Bm1mnsXl6F1Q",
        "colab_type": "code",
        "outputId": "2e7a6f07-a14c-4359-bf47-edac4a52335b",
        "colab": {
          "base_uri": "https://localhost:8080/",
          "height": 35
        }
      },
      "source": [
        "dataset.shape"
      ],
      "execution_count": 0,
      "outputs": [
        {
          "output_type": "execute_result",
          "data": {
            "text/plain": [
              "(661853, 14)"
            ]
          },
          "metadata": {
            "tags": []
          },
          "execution_count": 432
        }
      ]
    },
    {
      "cell_type": "code",
      "metadata": {
        "id": "SL60g57pT257",
        "colab_type": "code",
        "outputId": "a5a56bd6-eebd-4962-9d3d-f15ac30c4539",
        "colab": {
          "base_uri": "https://localhost:8080/",
          "height": 35
        }
      },
      "source": [
        "dataset[:,0].shape"
      ],
      "execution_count": 0,
      "outputs": [
        {
          "output_type": "execute_result",
          "data": {
            "text/plain": [
              "(661853,)"
            ]
          },
          "metadata": {
            "tags": []
          },
          "execution_count": 433
        }
      ]
    },
    {
      "cell_type": "code",
      "metadata": {
        "id": "oeuipIsvHq9y",
        "colab_type": "code",
        "colab": {}
      },
      "source": [
        "dataset_old = dataset"
      ],
      "execution_count": 0,
      "outputs": []
    },
    {
      "cell_type": "code",
      "metadata": {
        "id": "tlKZxxmECpAA",
        "colab_type": "code",
        "colab": {}
      },
      "source": [
        "dataset = dataset.reshape(6553,101,14)"
      ],
      "execution_count": 0,
      "outputs": []
    },
    {
      "cell_type": "markdown",
      "metadata": {
        "id": "2FhdBaNHS-Va",
        "colab_type": "text"
      },
      "source": [
        "# Feature selection"
      ]
    },
    {
      "cell_type": "code",
      "metadata": {
        "id": "kTW5dVVKS_4a",
        "colab_type": "code",
        "colab": {}
      },
      "source": [
        "data = pd.DataFrame({'ax': dataset[:,0], 'ay': dataset[:, 1],'az':dataset[:,2],'amgad':dataset[:,3],'lax':dataset[:,4],'lay':dataset[:,5],\n",
        "                 'laz':dataset[:,6],'lamag':dataset[:,7],'gyrox':dataset[:,8],'gyroy':dataset[:,9],'gyroz':dataset[:,10],'rotationx':dataset[:,11],\n",
        "                   'rotationy':dataset[:,12],'rotationz':dataset[:,13]})\n",
        "#data = pd.Series(data).to_frame()\n",
        "\n"
      ],
      "execution_count": 0,
      "outputs": []
    },
    {
      "cell_type": "code",
      "metadata": {
        "id": "Q46dxqxeTlmv",
        "colab_type": "code",
        "outputId": "a70ef806-aab1-458b-c44e-357923e919d9",
        "colab": {
          "base_uri": "https://localhost:8080/",
          "height": 35
        }
      },
      "source": [
        "print(dataset[:,0].size)"
      ],
      "execution_count": 0,
      "outputs": [
        {
          "output_type": "stream",
          "text": [
            "661853\n"
          ],
          "name": "stdout"
        }
      ]
    },
    {
      "cell_type": "markdown",
      "metadata": {
        "id": "QCbddp3dKyWl",
        "colab_type": "text"
      },
      "source": [
        "get correlation"
      ]
    },
    {
      "cell_type": "code",
      "metadata": {
        "id": "4VSNRl1cKxxo",
        "colab_type": "code",
        "colab": {}
      },
      "source": [
        "corr = data.corr()"
      ],
      "execution_count": 0,
      "outputs": []
    },
    {
      "cell_type": "code",
      "metadata": {
        "id": "6Y3psDKuL7lc",
        "colab_type": "code",
        "outputId": "08caf413-1b49-4378-e054-406299789090",
        "colab": {
          "base_uri": "https://localhost:8080/",
          "height": 318
        }
      },
      "source": [
        "corr.style.background_gradient(cmap='coolwarm')\n"
      ],
      "execution_count": 0,
      "outputs": [
        {
          "output_type": "execute_result",
          "data": {
            "text/html": [
              "<style  type=\"text/css\" >\n",
              "    #T_b6675af8_cfa1_11e9_a483_0242ac1c0002row0_col0 {\n",
              "            background-color:  #b40426;\n",
              "            color:  #f1f1f1;\n",
              "        }    #T_b6675af8_cfa1_11e9_a483_0242ac1c0002row0_col1 {\n",
              "            background-color:  #3b4cc0;\n",
              "            color:  #f1f1f1;\n",
              "        }    #T_b6675af8_cfa1_11e9_a483_0242ac1c0002row0_col2 {\n",
              "            background-color:  #3d50c3;\n",
              "            color:  #f1f1f1;\n",
              "        }    #T_b6675af8_cfa1_11e9_a483_0242ac1c0002row0_col3 {\n",
              "            background-color:  #7396f5;\n",
              "            color:  #000000;\n",
              "        }    #T_b6675af8_cfa1_11e9_a483_0242ac1c0002row0_col4 {\n",
              "            background-color:  #f5c1a9;\n",
              "            color:  #000000;\n",
              "        }    #T_b6675af8_cfa1_11e9_a483_0242ac1c0002row0_col5 {\n",
              "            background-color:  #94b6ff;\n",
              "            color:  #000000;\n",
              "        }    #T_b6675af8_cfa1_11e9_a483_0242ac1c0002row0_col6 {\n",
              "            background-color:  #85a8fc;\n",
              "            color:  #000000;\n",
              "        }    #T_b6675af8_cfa1_11e9_a483_0242ac1c0002row0_col7 {\n",
              "            background-color:  #8badfd;\n",
              "            color:  #000000;\n",
              "        }    #T_b6675af8_cfa1_11e9_a483_0242ac1c0002row0_col8 {\n",
              "            background-color:  #6c8ff1;\n",
              "            color:  #000000;\n",
              "        }    #T_b6675af8_cfa1_11e9_a483_0242ac1c0002row0_col9 {\n",
              "            background-color:  #6b8df0;\n",
              "            color:  #000000;\n",
              "        }    #T_b6675af8_cfa1_11e9_a483_0242ac1c0002row0_col10 {\n",
              "            background-color:  #9abbff;\n",
              "            color:  #000000;\n",
              "        }    #T_b6675af8_cfa1_11e9_a483_0242ac1c0002row0_col11 {\n",
              "            background-color:  #5572df;\n",
              "            color:  #000000;\n",
              "        }    #T_b6675af8_cfa1_11e9_a483_0242ac1c0002row0_col12 {\n",
              "            background-color:  #3b4cc0;\n",
              "            color:  #f1f1f1;\n",
              "        }    #T_b6675af8_cfa1_11e9_a483_0242ac1c0002row0_col13 {\n",
              "            background-color:  #5a78e4;\n",
              "            color:  #000000;\n",
              "        }    #T_b6675af8_cfa1_11e9_a483_0242ac1c0002row1_col0 {\n",
              "            background-color:  #3b4cc0;\n",
              "            color:  #f1f1f1;\n",
              "        }    #T_b6675af8_cfa1_11e9_a483_0242ac1c0002row1_col1 {\n",
              "            background-color:  #b40426;\n",
              "            color:  #f1f1f1;\n",
              "        }    #T_b6675af8_cfa1_11e9_a483_0242ac1c0002row1_col2 {\n",
              "            background-color:  #a1c0ff;\n",
              "            color:  #000000;\n",
              "        }    #T_b6675af8_cfa1_11e9_a483_0242ac1c0002row1_col3 {\n",
              "            background-color:  #3b4cc0;\n",
              "            color:  #f1f1f1;\n",
              "        }    #T_b6675af8_cfa1_11e9_a483_0242ac1c0002row1_col4 {\n",
              "            background-color:  #779af7;\n",
              "            color:  #000000;\n",
              "        }    #T_b6675af8_cfa1_11e9_a483_0242ac1c0002row1_col5 {\n",
              "            background-color:  #c0d4f5;\n",
              "            color:  #000000;\n",
              "        }    #T_b6675af8_cfa1_11e9_a483_0242ac1c0002row1_col6 {\n",
              "            background-color:  #8fb1fe;\n",
              "            color:  #000000;\n",
              "        }    #T_b6675af8_cfa1_11e9_a483_0242ac1c0002row1_col7 {\n",
              "            background-color:  #88abfd;\n",
              "            color:  #000000;\n",
              "        }    #T_b6675af8_cfa1_11e9_a483_0242ac1c0002row1_col8 {\n",
              "            background-color:  #89acfd;\n",
              "            color:  #000000;\n",
              "        }    #T_b6675af8_cfa1_11e9_a483_0242ac1c0002row1_col9 {\n",
              "            background-color:  #6282ea;\n",
              "            color:  #000000;\n",
              "        }    #T_b6675af8_cfa1_11e9_a483_0242ac1c0002row1_col10 {\n",
              "            background-color:  #8caffe;\n",
              "            color:  #000000;\n",
              "        }    #T_b6675af8_cfa1_11e9_a483_0242ac1c0002row1_col11 {\n",
              "            background-color:  #efcebd;\n",
              "            color:  #000000;\n",
              "        }    #T_b6675af8_cfa1_11e9_a483_0242ac1c0002row1_col12 {\n",
              "            background-color:  #516ddb;\n",
              "            color:  #000000;\n",
              "        }    #T_b6675af8_cfa1_11e9_a483_0242ac1c0002row1_col13 {\n",
              "            background-color:  #a7c5fe;\n",
              "            color:  #000000;\n",
              "        }    #T_b6675af8_cfa1_11e9_a483_0242ac1c0002row2_col0 {\n",
              "            background-color:  #7295f4;\n",
              "            color:  #000000;\n",
              "        }    #T_b6675af8_cfa1_11e9_a483_0242ac1c0002row2_col1 {\n",
              "            background-color:  #c7d7f0;\n",
              "            color:  #000000;\n",
              "        }    #T_b6675af8_cfa1_11e9_a483_0242ac1c0002row2_col2 {\n",
              "            background-color:  #b40426;\n",
              "            color:  #f1f1f1;\n",
              "        }    #T_b6675af8_cfa1_11e9_a483_0242ac1c0002row2_col3 {\n",
              "            background-color:  #e36b54;\n",
              "            color:  #000000;\n",
              "        }    #T_b6675af8_cfa1_11e9_a483_0242ac1c0002row2_col4 {\n",
              "            background-color:  #7ea1fa;\n",
              "            color:  #000000;\n",
              "        }    #T_b6675af8_cfa1_11e9_a483_0242ac1c0002row2_col5 {\n",
              "            background-color:  #a3c2fe;\n",
              "            color:  #000000;\n",
              "        }    #T_b6675af8_cfa1_11e9_a483_0242ac1c0002row2_col6 {\n",
              "            background-color:  #9fbfff;\n",
              "            color:  #000000;\n",
              "        }    #T_b6675af8_cfa1_11e9_a483_0242ac1c0002row2_col7 {\n",
              "            background-color:  #bed2f6;\n",
              "            color:  #000000;\n",
              "        }    #T_b6675af8_cfa1_11e9_a483_0242ac1c0002row2_col8 {\n",
              "            background-color:  #89acfd;\n",
              "            color:  #000000;\n",
              "        }    #T_b6675af8_cfa1_11e9_a483_0242ac1c0002row2_col9 {\n",
              "            background-color:  #6282ea;\n",
              "            color:  #000000;\n",
              "        }    #T_b6675af8_cfa1_11e9_a483_0242ac1c0002row2_col10 {\n",
              "            background-color:  #88abfd;\n",
              "            color:  #000000;\n",
              "        }    #T_b6675af8_cfa1_11e9_a483_0242ac1c0002row2_col11 {\n",
              "            background-color:  #adc9fd;\n",
              "            color:  #000000;\n",
              "        }    #T_b6675af8_cfa1_11e9_a483_0242ac1c0002row2_col12 {\n",
              "            background-color:  #506bda;\n",
              "            color:  #000000;\n",
              "        }    #T_b6675af8_cfa1_11e9_a483_0242ac1c0002row2_col13 {\n",
              "            background-color:  #7a9df8;\n",
              "            color:  #000000;\n",
              "        }    #T_b6675af8_cfa1_11e9_a483_0242ac1c0002row3_col0 {\n",
              "            background-color:  #8db0fe;\n",
              "            color:  #000000;\n",
              "        }    #T_b6675af8_cfa1_11e9_a483_0242ac1c0002row3_col1 {\n",
              "            background-color:  #5572df;\n",
              "            color:  #000000;\n",
              "        }    #T_b6675af8_cfa1_11e9_a483_0242ac1c0002row3_col2 {\n",
              "            background-color:  #e57058;\n",
              "            color:  #000000;\n",
              "        }    #T_b6675af8_cfa1_11e9_a483_0242ac1c0002row3_col3 {\n",
              "            background-color:  #b40426;\n",
              "            color:  #f1f1f1;\n",
              "        }    #T_b6675af8_cfa1_11e9_a483_0242ac1c0002row3_col4 {\n",
              "            background-color:  #85a8fc;\n",
              "            color:  #000000;\n",
              "        }    #T_b6675af8_cfa1_11e9_a483_0242ac1c0002row3_col5 {\n",
              "            background-color:  #8badfd;\n",
              "            color:  #000000;\n",
              "        }    #T_b6675af8_cfa1_11e9_a483_0242ac1c0002row3_col6 {\n",
              "            background-color:  #82a6fb;\n",
              "            color:  #000000;\n",
              "        }    #T_b6675af8_cfa1_11e9_a483_0242ac1c0002row3_col7 {\n",
              "            background-color:  #cad8ef;\n",
              "            color:  #000000;\n",
              "        }    #T_b6675af8_cfa1_11e9_a483_0242ac1c0002row3_col8 {\n",
              "            background-color:  #84a7fc;\n",
              "            color:  #000000;\n",
              "        }    #T_b6675af8_cfa1_11e9_a483_0242ac1c0002row3_col9 {\n",
              "            background-color:  #5f7fe8;\n",
              "            color:  #000000;\n",
              "        }    #T_b6675af8_cfa1_11e9_a483_0242ac1c0002row3_col10 {\n",
              "            background-color:  #84a7fc;\n",
              "            color:  #000000;\n",
              "        }    #T_b6675af8_cfa1_11e9_a483_0242ac1c0002row3_col11 {\n",
              "            background-color:  #485fd1;\n",
              "            color:  #f1f1f1;\n",
              "        }    #T_b6675af8_cfa1_11e9_a483_0242ac1c0002row3_col12 {\n",
              "            background-color:  #6687ed;\n",
              "            color:  #000000;\n",
              "        }    #T_b6675af8_cfa1_11e9_a483_0242ac1c0002row3_col13 {\n",
              "            background-color:  #3b4cc0;\n",
              "            color:  #f1f1f1;\n",
              "        }    #T_b6675af8_cfa1_11e9_a483_0242ac1c0002row4_col0 {\n",
              "            background-color:  #f5c0a7;\n",
              "            color:  #000000;\n",
              "        }    #T_b6675af8_cfa1_11e9_a483_0242ac1c0002row4_col1 {\n",
              "            background-color:  #7b9ff9;\n",
              "            color:  #000000;\n",
              "        }    #T_b6675af8_cfa1_11e9_a483_0242ac1c0002row4_col2 {\n",
              "            background-color:  #4e68d8;\n",
              "            color:  #000000;\n",
              "        }    #T_b6675af8_cfa1_11e9_a483_0242ac1c0002row4_col3 {\n",
              "            background-color:  #6f92f3;\n",
              "            color:  #000000;\n",
              "        }    #T_b6675af8_cfa1_11e9_a483_0242ac1c0002row4_col4 {\n",
              "            background-color:  #b40426;\n",
              "            color:  #f1f1f1;\n",
              "        }    #T_b6675af8_cfa1_11e9_a483_0242ac1c0002row4_col5 {\n",
              "            background-color:  #80a3fa;\n",
              "            color:  #000000;\n",
              "        }    #T_b6675af8_cfa1_11e9_a483_0242ac1c0002row4_col6 {\n",
              "            background-color:  #80a3fa;\n",
              "            color:  #000000;\n",
              "        }    #T_b6675af8_cfa1_11e9_a483_0242ac1c0002row4_col7 {\n",
              "            background-color:  #97b8ff;\n",
              "            color:  #000000;\n",
              "        }    #T_b6675af8_cfa1_11e9_a483_0242ac1c0002row4_col8 {\n",
              "            background-color:  #3b4cc0;\n",
              "            color:  #f1f1f1;\n",
              "        }    #T_b6675af8_cfa1_11e9_a483_0242ac1c0002row4_col9 {\n",
              "            background-color:  #5b7ae5;\n",
              "            color:  #000000;\n",
              "        }    #T_b6675af8_cfa1_11e9_a483_0242ac1c0002row4_col10 {\n",
              "            background-color:  #90b2fe;\n",
              "            color:  #000000;\n",
              "        }    #T_b6675af8_cfa1_11e9_a483_0242ac1c0002row4_col11 {\n",
              "            background-color:  #6c8ff1;\n",
              "            color:  #000000;\n",
              "        }    #T_b6675af8_cfa1_11e9_a483_0242ac1c0002row4_col12 {\n",
              "            background-color:  #4f69d9;\n",
              "            color:  #000000;\n",
              "        }    #T_b6675af8_cfa1_11e9_a483_0242ac1c0002row4_col13 {\n",
              "            background-color:  #5f7fe8;\n",
              "            color:  #000000;\n",
              "        }    #T_b6675af8_cfa1_11e9_a483_0242ac1c0002row5_col0 {\n",
              "            background-color:  #88abfd;\n",
              "            color:  #000000;\n",
              "        }    #T_b6675af8_cfa1_11e9_a483_0242ac1c0002row5_col1 {\n",
              "            background-color:  #b7cff9;\n",
              "            color:  #000000;\n",
              "        }    #T_b6675af8_cfa1_11e9_a483_0242ac1c0002row5_col2 {\n",
              "            background-color:  #6687ed;\n",
              "            color:  #000000;\n",
              "        }    #T_b6675af8_cfa1_11e9_a483_0242ac1c0002row5_col3 {\n",
              "            background-color:  #6384eb;\n",
              "            color:  #000000;\n",
              "        }    #T_b6675af8_cfa1_11e9_a483_0242ac1c0002row5_col4 {\n",
              "            background-color:  #6f92f3;\n",
              "            color:  #000000;\n",
              "        }    #T_b6675af8_cfa1_11e9_a483_0242ac1c0002row5_col5 {\n",
              "            background-color:  #b40426;\n",
              "            color:  #f1f1f1;\n",
              "        }    #T_b6675af8_cfa1_11e9_a483_0242ac1c0002row5_col6 {\n",
              "            background-color:  #ead4c8;\n",
              "            color:  #000000;\n",
              "        }    #T_b6675af8_cfa1_11e9_a483_0242ac1c0002row5_col7 {\n",
              "            background-color:  #3b4cc0;\n",
              "            color:  #f1f1f1;\n",
              "        }    #T_b6675af8_cfa1_11e9_a483_0242ac1c0002row5_col8 {\n",
              "            background-color:  #93b5fe;\n",
              "            color:  #000000;\n",
              "        }    #T_b6675af8_cfa1_11e9_a483_0242ac1c0002row5_col9 {\n",
              "            background-color:  #bbd1f8;\n",
              "            color:  #000000;\n",
              "        }    #T_b6675af8_cfa1_11e9_a483_0242ac1c0002row5_col10 {\n",
              "            background-color:  #f7b194;\n",
              "            color:  #000000;\n",
              "        }    #T_b6675af8_cfa1_11e9_a483_0242ac1c0002row5_col11 {\n",
              "            background-color:  #adc9fd;\n",
              "            color:  #000000;\n",
              "        }    #T_b6675af8_cfa1_11e9_a483_0242ac1c0002row5_col12 {\n",
              "            background-color:  #5e7de7;\n",
              "            color:  #000000;\n",
              "        }    #T_b6675af8_cfa1_11e9_a483_0242ac1c0002row5_col13 {\n",
              "            background-color:  #7b9ff9;\n",
              "            color:  #000000;\n",
              "        }    #T_b6675af8_cfa1_11e9_a483_0242ac1c0002row6_col0 {\n",
              "            background-color:  #97b8ff;\n",
              "            color:  #000000;\n",
              "        }    #T_b6675af8_cfa1_11e9_a483_0242ac1c0002row6_col1 {\n",
              "            background-color:  #9fbfff;\n",
              "            color:  #000000;\n",
              "        }    #T_b6675af8_cfa1_11e9_a483_0242ac1c0002row6_col2 {\n",
              "            background-color:  #82a6fb;\n",
              "            color:  #000000;\n",
              "        }    #T_b6675af8_cfa1_11e9_a483_0242ac1c0002row6_col3 {\n",
              "            background-color:  #7b9ff9;\n",
              "            color:  #000000;\n",
              "        }    #T_b6675af8_cfa1_11e9_a483_0242ac1c0002row6_col4 {\n",
              "            background-color:  #8db0fe;\n",
              "            color:  #000000;\n",
              "        }    #T_b6675af8_cfa1_11e9_a483_0242ac1c0002row6_col5 {\n",
              "            background-color:  #f2cab5;\n",
              "            color:  #000000;\n",
              "        }    #T_b6675af8_cfa1_11e9_a483_0242ac1c0002row6_col6 {\n",
              "            background-color:  #b40426;\n",
              "            color:  #f1f1f1;\n",
              "        }    #T_b6675af8_cfa1_11e9_a483_0242ac1c0002row6_col7 {\n",
              "            background-color:  #5b7ae5;\n",
              "            color:  #000000;\n",
              "        }    #T_b6675af8_cfa1_11e9_a483_0242ac1c0002row6_col8 {\n",
              "            background-color:  #7ea1fa;\n",
              "            color:  #000000;\n",
              "        }    #T_b6675af8_cfa1_11e9_a483_0242ac1c0002row6_col9 {\n",
              "            background-color:  #93b5fe;\n",
              "            color:  #000000;\n",
              "        }    #T_b6675af8_cfa1_11e9_a483_0242ac1c0002row6_col10 {\n",
              "            background-color:  #e9d5cb;\n",
              "            color:  #000000;\n",
              "        }    #T_b6675af8_cfa1_11e9_a483_0242ac1c0002row6_col11 {\n",
              "            background-color:  #9abbff;\n",
              "            color:  #000000;\n",
              "        }    #T_b6675af8_cfa1_11e9_a483_0242ac1c0002row6_col12 {\n",
              "            background-color:  #5673e0;\n",
              "            color:  #000000;\n",
              "        }    #T_b6675af8_cfa1_11e9_a483_0242ac1c0002row6_col13 {\n",
              "            background-color:  #7093f3;\n",
              "            color:  #000000;\n",
              "        }    #T_b6675af8_cfa1_11e9_a483_0242ac1c0002row7_col0 {\n",
              "            background-color:  #7ea1fa;\n",
              "            color:  #000000;\n",
              "        }    #T_b6675af8_cfa1_11e9_a483_0242ac1c0002row7_col1 {\n",
              "            background-color:  #7b9ff9;\n",
              "            color:  #000000;\n",
              "        }    #T_b6675af8_cfa1_11e9_a483_0242ac1c0002row7_col2 {\n",
              "            background-color:  #88abfd;\n",
              "            color:  #000000;\n",
              "        }    #T_b6675af8_cfa1_11e9_a483_0242ac1c0002row7_col3 {\n",
              "            background-color:  #aec9fc;\n",
              "            color:  #000000;\n",
              "        }    #T_b6675af8_cfa1_11e9_a483_0242ac1c0002row7_col4 {\n",
              "            background-color:  #88abfd;\n",
              "            color:  #000000;\n",
              "        }    #T_b6675af8_cfa1_11e9_a483_0242ac1c0002row7_col5 {\n",
              "            background-color:  #3b4cc0;\n",
              "            color:  #f1f1f1;\n",
              "        }    #T_b6675af8_cfa1_11e9_a483_0242ac1c0002row7_col6 {\n",
              "            background-color:  #3b4cc0;\n",
              "            color:  #f1f1f1;\n",
              "        }    #T_b6675af8_cfa1_11e9_a483_0242ac1c0002row7_col7 {\n",
              "            background-color:  #b40426;\n",
              "            color:  #f1f1f1;\n",
              "        }    #T_b6675af8_cfa1_11e9_a483_0242ac1c0002row7_col8 {\n",
              "            background-color:  #779af7;\n",
              "            color:  #000000;\n",
              "        }    #T_b6675af8_cfa1_11e9_a483_0242ac1c0002row7_col9 {\n",
              "            background-color:  #3b4cc0;\n",
              "            color:  #f1f1f1;\n",
              "        }    #T_b6675af8_cfa1_11e9_a483_0242ac1c0002row7_col10 {\n",
              "            background-color:  #3b4cc0;\n",
              "            color:  #f1f1f1;\n",
              "        }    #T_b6675af8_cfa1_11e9_a483_0242ac1c0002row7_col11 {\n",
              "            background-color:  #3b4cc0;\n",
              "            color:  #f1f1f1;\n",
              "        }    #T_b6675af8_cfa1_11e9_a483_0242ac1c0002row7_col12 {\n",
              "            background-color:  #6c8ff1;\n",
              "            color:  #000000;\n",
              "        }    #T_b6675af8_cfa1_11e9_a483_0242ac1c0002row7_col13 {\n",
              "            background-color:  #4961d2;\n",
              "            color:  #f1f1f1;\n",
              "        }    #T_b6675af8_cfa1_11e9_a483_0242ac1c0002row8_col0 {\n",
              "            background-color:  #7093f3;\n",
              "            color:  #000000;\n",
              "        }    #T_b6675af8_cfa1_11e9_a483_0242ac1c0002row8_col1 {\n",
              "            background-color:  #8caffe;\n",
              "            color:  #000000;\n",
              "        }    #T_b6675af8_cfa1_11e9_a483_0242ac1c0002row8_col2 {\n",
              "            background-color:  #5977e3;\n",
              "            color:  #000000;\n",
              "        }    #T_b6675af8_cfa1_11e9_a483_0242ac1c0002row8_col3 {\n",
              "            background-color:  #6c8ff1;\n",
              "            color:  #000000;\n",
              "        }    #T_b6675af8_cfa1_11e9_a483_0242ac1c0002row8_col4 {\n",
              "            background-color:  #3b4cc0;\n",
              "            color:  #f1f1f1;\n",
              "        }    #T_b6675af8_cfa1_11e9_a483_0242ac1c0002row8_col5 {\n",
              "            background-color:  #a1c0ff;\n",
              "            color:  #000000;\n",
              "        }    #T_b6675af8_cfa1_11e9_a483_0242ac1c0002row8_col6 {\n",
              "            background-color:  #6e90f2;\n",
              "            color:  #000000;\n",
              "        }    #T_b6675af8_cfa1_11e9_a483_0242ac1c0002row8_col7 {\n",
              "            background-color:  #88abfd;\n",
              "            color:  #000000;\n",
              "        }    #T_b6675af8_cfa1_11e9_a483_0242ac1c0002row8_col8 {\n",
              "            background-color:  #b40426;\n",
              "            color:  #f1f1f1;\n",
              "        }    #T_b6675af8_cfa1_11e9_a483_0242ac1c0002row8_col9 {\n",
              "            background-color:  #7295f4;\n",
              "            color:  #000000;\n",
              "        }    #T_b6675af8_cfa1_11e9_a483_0242ac1c0002row8_col10 {\n",
              "            background-color:  #7da0f9;\n",
              "            color:  #000000;\n",
              "        }    #T_b6675af8_cfa1_11e9_a483_0242ac1c0002row8_col11 {\n",
              "            background-color:  #84a7fc;\n",
              "            color:  #000000;\n",
              "        }    #T_b6675af8_cfa1_11e9_a483_0242ac1c0002row8_col12 {\n",
              "            background-color:  #88abfd;\n",
              "            color:  #000000;\n",
              "        }    #T_b6675af8_cfa1_11e9_a483_0242ac1c0002row8_col13 {\n",
              "            background-color:  #6384eb;\n",
              "            color:  #000000;\n",
              "        }    #T_b6675af8_cfa1_11e9_a483_0242ac1c0002row9_col0 {\n",
              "            background-color:  #8badfd;\n",
              "            color:  #000000;\n",
              "        }    #T_b6675af8_cfa1_11e9_a483_0242ac1c0002row9_col1 {\n",
              "            background-color:  #81a4fb;\n",
              "            color:  #000000;\n",
              "        }    #T_b6675af8_cfa1_11e9_a483_0242ac1c0002row9_col2 {\n",
              "            background-color:  #4c66d6;\n",
              "            color:  #000000;\n",
              "        }    #T_b6675af8_cfa1_11e9_a483_0242ac1c0002row9_col3 {\n",
              "            background-color:  #6384eb;\n",
              "            color:  #000000;\n",
              "        }    #T_b6675af8_cfa1_11e9_a483_0242ac1c0002row9_col4 {\n",
              "            background-color:  #779af7;\n",
              "            color:  #000000;\n",
              "        }    #T_b6675af8_cfa1_11e9_a483_0242ac1c0002row9_col5 {\n",
              "            background-color:  #d5dbe5;\n",
              "            color:  #000000;\n",
              "        }    #T_b6675af8_cfa1_11e9_a483_0242ac1c0002row9_col6 {\n",
              "            background-color:  #9ebeff;\n",
              "            color:  #000000;\n",
              "        }    #T_b6675af8_cfa1_11e9_a483_0242ac1c0002row9_col7 {\n",
              "            background-color:  #6788ee;\n",
              "            color:  #000000;\n",
              "        }    #T_b6675af8_cfa1_11e9_a483_0242ac1c0002row9_col8 {\n",
              "            background-color:  #8db0fe;\n",
              "            color:  #000000;\n",
              "        }    #T_b6675af8_cfa1_11e9_a483_0242ac1c0002row9_col9 {\n",
              "            background-color:  #b40426;\n",
              "            color:  #f1f1f1;\n",
              "        }    #T_b6675af8_cfa1_11e9_a483_0242ac1c0002row9_col10 {\n",
              "            background-color:  #dbdcde;\n",
              "            color:  #000000;\n",
              "        }    #T_b6675af8_cfa1_11e9_a483_0242ac1c0002row9_col11 {\n",
              "            background-color:  #82a6fb;\n",
              "            color:  #000000;\n",
              "        }    #T_b6675af8_cfa1_11e9_a483_0242ac1c0002row9_col12 {\n",
              "            background-color:  #6687ed;\n",
              "            color:  #000000;\n",
              "        }    #T_b6675af8_cfa1_11e9_a483_0242ac1c0002row9_col13 {\n",
              "            background-color:  #7ea1fa;\n",
              "            color:  #000000;\n",
              "        }    #T_b6675af8_cfa1_11e9_a483_0242ac1c0002row10_col0 {\n",
              "            background-color:  #98b9ff;\n",
              "            color:  #000000;\n",
              "        }    #T_b6675af8_cfa1_11e9_a483_0242ac1c0002row10_col1 {\n",
              "            background-color:  #8caffe;\n",
              "            color:  #000000;\n",
              "        }    #T_b6675af8_cfa1_11e9_a483_0242ac1c0002row10_col2 {\n",
              "            background-color:  #536edd;\n",
              "            color:  #000000;\n",
              "        }    #T_b6675af8_cfa1_11e9_a483_0242ac1c0002row10_col3 {\n",
              "            background-color:  #6788ee;\n",
              "            color:  #000000;\n",
              "        }    #T_b6675af8_cfa1_11e9_a483_0242ac1c0002row10_col4 {\n",
              "            background-color:  #8badfd;\n",
              "            color:  #000000;\n",
              "        }    #T_b6675af8_cfa1_11e9_a483_0242ac1c0002row10_col5 {\n",
              "            background-color:  #f7ad90;\n",
              "            color:  #000000;\n",
              "        }    #T_b6675af8_cfa1_11e9_a483_0242ac1c0002row10_col6 {\n",
              "            background-color:  #e0dbd8;\n",
              "            color:  #000000;\n",
              "        }    #T_b6675af8_cfa1_11e9_a483_0242ac1c0002row10_col7 {\n",
              "            background-color:  #465ecf;\n",
              "            color:  #f1f1f1;\n",
              "        }    #T_b6675af8_cfa1_11e9_a483_0242ac1c0002row10_col8 {\n",
              "            background-color:  #779af7;\n",
              "            color:  #000000;\n",
              "        }    #T_b6675af8_cfa1_11e9_a483_0242ac1c0002row10_col9 {\n",
              "            background-color:  #cbd8ee;\n",
              "            color:  #000000;\n",
              "        }    #T_b6675af8_cfa1_11e9_a483_0242ac1c0002row10_col10 {\n",
              "            background-color:  #b40426;\n",
              "            color:  #f1f1f1;\n",
              "        }    #T_b6675af8_cfa1_11e9_a483_0242ac1c0002row10_col11 {\n",
              "            background-color:  #8badfd;\n",
              "            color:  #000000;\n",
              "        }    #T_b6675af8_cfa1_11e9_a483_0242ac1c0002row10_col12 {\n",
              "            background-color:  #5977e3;\n",
              "            color:  #000000;\n",
              "        }    #T_b6675af8_cfa1_11e9_a483_0242ac1c0002row10_col13 {\n",
              "            background-color:  #6485ec;\n",
              "            color:  #000000;\n",
              "        }    #T_b6675af8_cfa1_11e9_a483_0242ac1c0002row11_col0 {\n",
              "            background-color:  #6485ec;\n",
              "            color:  #000000;\n",
              "        }    #T_b6675af8_cfa1_11e9_a483_0242ac1c0002row11_col1 {\n",
              "            background-color:  #f2cab5;\n",
              "            color:  #000000;\n",
              "        }    #T_b6675af8_cfa1_11e9_a483_0242ac1c0002row11_col2 {\n",
              "            background-color:  #8db0fe;\n",
              "            color:  #000000;\n",
              "        }    #T_b6675af8_cfa1_11e9_a483_0242ac1c0002row11_col3 {\n",
              "            background-color:  #3c4ec2;\n",
              "            color:  #f1f1f1;\n",
              "        }    #T_b6675af8_cfa1_11e9_a483_0242ac1c0002row11_col4 {\n",
              "            background-color:  #799cf8;\n",
              "            color:  #000000;\n",
              "        }    #T_b6675af8_cfa1_11e9_a483_0242ac1c0002row11_col5 {\n",
              "            background-color:  #c1d4f4;\n",
              "            color:  #000000;\n",
              "        }    #T_b6675af8_cfa1_11e9_a483_0242ac1c0002row11_col6 {\n",
              "            background-color:  #96b7ff;\n",
              "            color:  #000000;\n",
              "        }    #T_b6675af8_cfa1_11e9_a483_0242ac1c0002row11_col7 {\n",
              "            background-color:  #5875e1;\n",
              "            color:  #000000;\n",
              "        }    #T_b6675af8_cfa1_11e9_a483_0242ac1c0002row11_col8 {\n",
              "            background-color:  #8fb1fe;\n",
              "            color:  #000000;\n",
              "        }    #T_b6675af8_cfa1_11e9_a483_0242ac1c0002row11_col9 {\n",
              "            background-color:  #7396f5;\n",
              "            color:  #000000;\n",
              "        }    #T_b6675af8_cfa1_11e9_a483_0242ac1c0002row11_col10 {\n",
              "            background-color:  #9abbff;\n",
              "            color:  #000000;\n",
              "        }    #T_b6675af8_cfa1_11e9_a483_0242ac1c0002row11_col11 {\n",
              "            background-color:  #b40426;\n",
              "            color:  #f1f1f1;\n",
              "        }    #T_b6675af8_cfa1_11e9_a483_0242ac1c0002row11_col12 {\n",
              "            background-color:  #6a8bef;\n",
              "            color:  #000000;\n",
              "        }    #T_b6675af8_cfa1_11e9_a483_0242ac1c0002row11_col13 {\n",
              "            background-color:  #f7b396;\n",
              "            color:  #000000;\n",
              "        }    #T_b6675af8_cfa1_11e9_a483_0242ac1c0002row12_col0 {\n",
              "            background-color:  #5977e3;\n",
              "            color:  #000000;\n",
              "        }    #T_b6675af8_cfa1_11e9_a483_0242ac1c0002row12_col1 {\n",
              "            background-color:  #7093f3;\n",
              "            color:  #000000;\n",
              "        }    #T_b6675af8_cfa1_11e9_a483_0242ac1c0002row12_col2 {\n",
              "            background-color:  #3b4cc0;\n",
              "            color:  #f1f1f1;\n",
              "        }    #T_b6675af8_cfa1_11e9_a483_0242ac1c0002row12_col3 {\n",
              "            background-color:  #6a8bef;\n",
              "            color:  #000000;\n",
              "        }    #T_b6675af8_cfa1_11e9_a483_0242ac1c0002row12_col4 {\n",
              "            background-color:  #6b8df0;\n",
              "            color:  #000000;\n",
              "        }    #T_b6675af8_cfa1_11e9_a483_0242ac1c0002row12_col5 {\n",
              "            background-color:  #89acfd;\n",
              "            color:  #000000;\n",
              "        }    #T_b6675af8_cfa1_11e9_a483_0242ac1c0002row12_col6 {\n",
              "            background-color:  #6282ea;\n",
              "            color:  #000000;\n",
              "        }    #T_b6675af8_cfa1_11e9_a483_0242ac1c0002row12_col7 {\n",
              "            background-color:  #96b7ff;\n",
              "            color:  #000000;\n",
              "        }    #T_b6675af8_cfa1_11e9_a483_0242ac1c0002row12_col8 {\n",
              "            background-color:  #9fbfff;\n",
              "            color:  #000000;\n",
              "        }    #T_b6675af8_cfa1_11e9_a483_0242ac1c0002row12_col9 {\n",
              "            background-color:  #6485ec;\n",
              "            color:  #000000;\n",
              "        }    #T_b6675af8_cfa1_11e9_a483_0242ac1c0002row12_col10 {\n",
              "            background-color:  #799cf8;\n",
              "            color:  #000000;\n",
              "        }    #T_b6675af8_cfa1_11e9_a483_0242ac1c0002row12_col11 {\n",
              "            background-color:  #799cf8;\n",
              "            color:  #000000;\n",
              "        }    #T_b6675af8_cfa1_11e9_a483_0242ac1c0002row12_col12 {\n",
              "            background-color:  #b40426;\n",
              "            color:  #f1f1f1;\n",
              "        }    #T_b6675af8_cfa1_11e9_a483_0242ac1c0002row12_col13 {\n",
              "            background-color:  #465ecf;\n",
              "            color:  #f1f1f1;\n",
              "        }    #T_b6675af8_cfa1_11e9_a483_0242ac1c0002row13_col0 {\n",
              "            background-color:  #7b9ff9;\n",
              "            color:  #000000;\n",
              "        }    #T_b6675af8_cfa1_11e9_a483_0242ac1c0002row13_col1 {\n",
              "            background-color:  #c0d4f5;\n",
              "            color:  #000000;\n",
              "        }    #T_b6675af8_cfa1_11e9_a483_0242ac1c0002row13_col2 {\n",
              "            background-color:  #6788ee;\n",
              "            color:  #000000;\n",
              "        }    #T_b6675af8_cfa1_11e9_a483_0242ac1c0002row13_col3 {\n",
              "            background-color:  #4257c9;\n",
              "            color:  #f1f1f1;\n",
              "        }    #T_b6675af8_cfa1_11e9_a483_0242ac1c0002row13_col4 {\n",
              "            background-color:  #7da0f9;\n",
              "            color:  #000000;\n",
              "        }    #T_b6675af8_cfa1_11e9_a483_0242ac1c0002row13_col5 {\n",
              "            background-color:  #a6c4fe;\n",
              "            color:  #000000;\n",
              "        }    #T_b6675af8_cfa1_11e9_a483_0242ac1c0002row13_col6 {\n",
              "            background-color:  #7ea1fa;\n",
              "            color:  #000000;\n",
              "        }    #T_b6675af8_cfa1_11e9_a483_0242ac1c0002row13_col7 {\n",
              "            background-color:  #799cf8;\n",
              "            color:  #000000;\n",
              "        }    #T_b6675af8_cfa1_11e9_a483_0242ac1c0002row13_col8 {\n",
              "            background-color:  #81a4fb;\n",
              "            color:  #000000;\n",
              "        }    #T_b6675af8_cfa1_11e9_a483_0242ac1c0002row13_col9 {\n",
              "            background-color:  #81a4fb;\n",
              "            color:  #000000;\n",
              "        }    #T_b6675af8_cfa1_11e9_a483_0242ac1c0002row13_col10 {\n",
              "            background-color:  #86a9fc;\n",
              "            color:  #000000;\n",
              "        }    #T_b6675af8_cfa1_11e9_a483_0242ac1c0002row13_col11 {\n",
              "            background-color:  #f7ac8e;\n",
              "            color:  #000000;\n",
              "        }    #T_b6675af8_cfa1_11e9_a483_0242ac1c0002row13_col12 {\n",
              "            background-color:  #4a63d3;\n",
              "            color:  #f1f1f1;\n",
              "        }    #T_b6675af8_cfa1_11e9_a483_0242ac1c0002row13_col13 {\n",
              "            background-color:  #b40426;\n",
              "            color:  #f1f1f1;\n",
              "        }</style><table id=\"T_b6675af8_cfa1_11e9_a483_0242ac1c0002\" ><thead>    <tr>        <th class=\"blank level0\" ></th>        <th class=\"col_heading level0 col0\" >ax</th>        <th class=\"col_heading level0 col1\" >ay</th>        <th class=\"col_heading level0 col2\" >az</th>        <th class=\"col_heading level0 col3\" >amgad</th>        <th class=\"col_heading level0 col4\" >lax</th>        <th class=\"col_heading level0 col5\" >lay</th>        <th class=\"col_heading level0 col6\" >laz</th>        <th class=\"col_heading level0 col7\" >lamag</th>        <th class=\"col_heading level0 col8\" >gyrox</th>        <th class=\"col_heading level0 col9\" >gyroy</th>        <th class=\"col_heading level0 col10\" >gyroz</th>        <th class=\"col_heading level0 col11\" >rotationx</th>        <th class=\"col_heading level0 col12\" >rotationy</th>        <th class=\"col_heading level0 col13\" >rotationz</th>    </tr></thead><tbody>\n",
              "                <tr>\n",
              "                        <th id=\"T_b6675af8_cfa1_11e9_a483_0242ac1c0002level0_row0\" class=\"row_heading level0 row0\" >ax</th>\n",
              "                        <td id=\"T_b6675af8_cfa1_11e9_a483_0242ac1c0002row0_col0\" class=\"data row0 col0\" >1</td>\n",
              "                        <td id=\"T_b6675af8_cfa1_11e9_a483_0242ac1c0002row0_col1\" class=\"data row0 col1\" >-0.295389</td>\n",
              "                        <td id=\"T_b6675af8_cfa1_11e9_a483_0242ac1c0002row0_col2\" class=\"data row0 col2\" >-0.0686443</td>\n",
              "                        <td id=\"T_b6675af8_cfa1_11e9_a483_0242ac1c0002row0_col3\" class=\"data row0 col3\" >0.0288346</td>\n",
              "                        <td id=\"T_b6675af8_cfa1_11e9_a483_0242ac1c0002row0_col4\" class=\"data row0 col4\" >0.533069</td>\n",
              "                        <td id=\"T_b6675af8_cfa1_11e9_a483_0242ac1c0002row0_col5\" class=\"data row0 col5\" >0.00880153</td>\n",
              "                        <td id=\"T_b6675af8_cfa1_11e9_a483_0242ac1c0002row0_col6\" class=\"data row0 col6\" >0.0653991</td>\n",
              "                        <td id=\"T_b6675af8_cfa1_11e9_a483_0242ac1c0002row0_col7\" class=\"data row0 col7\" >-0.0247962</td>\n",
              "                        <td id=\"T_b6675af8_cfa1_11e9_a483_0242ac1c0002row0_col8\" class=\"data row0 col8\" >-0.0759341</td>\n",
              "                        <td id=\"T_b6675af8_cfa1_11e9_a483_0242ac1c0002row0_col9\" class=\"data row0 col9\" >0.0194201</td>\n",
              "                        <td id=\"T_b6675af8_cfa1_11e9_a483_0242ac1c0002row0_col10\" class=\"data row0 col10\" >0.0722867</td>\n",
              "                        <td id=\"T_b6675af8_cfa1_11e9_a483_0242ac1c0002row0_col11\" class=\"data row0 col11\" >-0.119549</td>\n",
              "                        <td id=\"T_b6675af8_cfa1_11e9_a483_0242ac1c0002row0_col12\" class=\"data row0 col12\" >-0.165482</td>\n",
              "                        <td id=\"T_b6675af8_cfa1_11e9_a483_0242ac1c0002row0_col13\" class=\"data row0 col13\" >-0.0333449</td>\n",
              "            </tr>\n",
              "            <tr>\n",
              "                        <th id=\"T_b6675af8_cfa1_11e9_a483_0242ac1c0002level0_row1\" class=\"row_heading level0 row1\" >ay</th>\n",
              "                        <td id=\"T_b6675af8_cfa1_11e9_a483_0242ac1c0002row1_col0\" class=\"data row1 col0\" >-0.295389</td>\n",
              "                        <td id=\"T_b6675af8_cfa1_11e9_a483_0242ac1c0002row1_col1\" class=\"data row1 col1\" >1</td>\n",
              "                        <td id=\"T_b6675af8_cfa1_11e9_a483_0242ac1c0002row1_col2\" class=\"data row1 col2\" >0.251682</td>\n",
              "                        <td id=\"T_b6675af8_cfa1_11e9_a483_0242ac1c0002row1_col3\" class=\"data row1 col3\" >-0.179905</td>\n",
              "                        <td id=\"T_b6675af8_cfa1_11e9_a483_0242ac1c0002row1_col4\" class=\"data row1 col4\" >-0.0349562</td>\n",
              "                        <td id=\"T_b6675af8_cfa1_11e9_a483_0242ac1c0002row1_col5\" class=\"data row1 col5\" >0.186641</td>\n",
              "                        <td id=\"T_b6675af8_cfa1_11e9_a483_0242ac1c0002row1_col6\" class=\"data row1 col6\" >0.0967097</td>\n",
              "                        <td id=\"T_b6675af8_cfa1_11e9_a483_0242ac1c0002row1_col7\" class=\"data row1 col7\" >-0.0370852</td>\n",
              "                        <td id=\"T_b6675af8_cfa1_11e9_a483_0242ac1c0002row1_col8\" class=\"data row1 col8\" >0.0261527</td>\n",
              "                        <td id=\"T_b6675af8_cfa1_11e9_a483_0242ac1c0002row1_col9\" class=\"data row1 col9\" >-0.0139207</td>\n",
              "                        <td id=\"T_b6675af8_cfa1_11e9_a483_0242ac1c0002row1_col10\" class=\"data row1 col10\" >0.0238147</td>\n",
              "                        <td id=\"T_b6675af8_cfa1_11e9_a483_0242ac1c0002row1_col11\" class=\"data row1 col11\" >0.488538</td>\n",
              "                        <td id=\"T_b6675af8_cfa1_11e9_a483_0242ac1c0002row1_col12\" class=\"data row1 col12\" >-0.0754623</td>\n",
              "                        <td id=\"T_b6675af8_cfa1_11e9_a483_0242ac1c0002row1_col13\" class=\"data row1 col13\" >0.222678</td>\n",
              "            </tr>\n",
              "            <tr>\n",
              "                        <th id=\"T_b6675af8_cfa1_11e9_a483_0242ac1c0002level0_row2\" class=\"row_heading level0 row2\" >az</th>\n",
              "                        <td id=\"T_b6675af8_cfa1_11e9_a483_0242ac1c0002row2_col0\" class=\"data row2 col0\" >-0.0686443</td>\n",
              "                        <td id=\"T_b6675af8_cfa1_11e9_a483_0242ac1c0002row2_col1\" class=\"data row2 col1\" >0.251682</td>\n",
              "                        <td id=\"T_b6675af8_cfa1_11e9_a483_0242ac1c0002row2_col2\" class=\"data row2 col2\" >1</td>\n",
              "                        <td id=\"T_b6675af8_cfa1_11e9_a483_0242ac1c0002row2_col3\" class=\"data row2 col3\" >0.828206</td>\n",
              "                        <td id=\"T_b6675af8_cfa1_11e9_a483_0242ac1c0002row2_col4\" class=\"data row2 col4\" >-0.00961036</td>\n",
              "                        <td id=\"T_b6675af8_cfa1_11e9_a483_0242ac1c0002row2_col5\" class=\"data row2 col5\" >0.0698096</td>\n",
              "                        <td id=\"T_b6675af8_cfa1_11e9_a483_0242ac1c0002row2_col6\" class=\"data row2 col6\" >0.157324</td>\n",
              "                        <td id=\"T_b6675af8_cfa1_11e9_a483_0242ac1c0002row2_col7\" class=\"data row2 col7\" >0.174187</td>\n",
              "                        <td id=\"T_b6675af8_cfa1_11e9_a483_0242ac1c0002row2_col8\" class=\"data row2 col8\" >0.0258815</td>\n",
              "                        <td id=\"T_b6675af8_cfa1_11e9_a483_0242ac1c0002row2_col9\" class=\"data row2 col9\" >-0.014723</td>\n",
              "                        <td id=\"T_b6675af8_cfa1_11e9_a483_0242ac1c0002row2_col10\" class=\"data row2 col10\" >0.00710517</td>\n",
              "                        <td id=\"T_b6675af8_cfa1_11e9_a483_0242ac1c0002row2_col11\" class=\"data row2 col11\" >0.192387</td>\n",
              "                        <td id=\"T_b6675af8_cfa1_11e9_a483_0242ac1c0002row2_col12\" class=\"data row2 col12\" >-0.0810599</td>\n",
              "                        <td id=\"T_b6675af8_cfa1_11e9_a483_0242ac1c0002row2_col13\" class=\"data row2 col13\" >0.0738759</td>\n",
              "            </tr>\n",
              "            <tr>\n",
              "                        <th id=\"T_b6675af8_cfa1_11e9_a483_0242ac1c0002level0_row3\" class=\"row_heading level0 row3\" >amgad</th>\n",
              "                        <td id=\"T_b6675af8_cfa1_11e9_a483_0242ac1c0002row3_col0\" class=\"data row3 col0\" >0.0288346</td>\n",
              "                        <td id=\"T_b6675af8_cfa1_11e9_a483_0242ac1c0002row3_col1\" class=\"data row3 col1\" >-0.179905</td>\n",
              "                        <td id=\"T_b6675af8_cfa1_11e9_a483_0242ac1c0002row3_col2\" class=\"data row3 col2\" >0.828206</td>\n",
              "                        <td id=\"T_b6675af8_cfa1_11e9_a483_0242ac1c0002row3_col3\" class=\"data row3 col3\" >1</td>\n",
              "                        <td id=\"T_b6675af8_cfa1_11e9_a483_0242ac1c0002row3_col4\" class=\"data row3 col4\" >0.0147636</td>\n",
              "                        <td id=\"T_b6675af8_cfa1_11e9_a483_0242ac1c0002row3_col5\" class=\"data row3 col5\" >-0.0240324</td>\n",
              "                        <td id=\"T_b6675af8_cfa1_11e9_a483_0242ac1c0002row3_col6\" class=\"data row3 col6\" >0.0554842</td>\n",
              "                        <td id=\"T_b6675af8_cfa1_11e9_a483_0242ac1c0002row3_col7\" class=\"data row3 col7\" >0.228127</td>\n",
              "                        <td id=\"T_b6675af8_cfa1_11e9_a483_0242ac1c0002row3_col8\" class=\"data row3 col8\" >0.00701099</td>\n",
              "                        <td id=\"T_b6675af8_cfa1_11e9_a483_0242ac1c0002row3_col9\" class=\"data row3 col9\" >-0.0252359</td>\n",
              "                        <td id=\"T_b6675af8_cfa1_11e9_a483_0242ac1c0002row3_col10\" class=\"data row3 col10\" >-0.0112135</td>\n",
              "                        <td id=\"T_b6675af8_cfa1_11e9_a483_0242ac1c0002row3_col11\" class=\"data row3 col11\" >-0.175159</td>\n",
              "                        <td id=\"T_b6675af8_cfa1_11e9_a483_0242ac1c0002row3_col12\" class=\"data row3 col12\" >-0.0040244</td>\n",
              "                        <td id=\"T_b6675af8_cfa1_11e9_a483_0242ac1c0002row3_col13\" class=\"data row3 col13\" >-0.151765</td>\n",
              "            </tr>\n",
              "            <tr>\n",
              "                        <th id=\"T_b6675af8_cfa1_11e9_a483_0242ac1c0002level0_row4\" class=\"row_heading level0 row4\" >lax</th>\n",
              "                        <td id=\"T_b6675af8_cfa1_11e9_a483_0242ac1c0002row4_col0\" class=\"data row4 col0\" >0.533069</td>\n",
              "                        <td id=\"T_b6675af8_cfa1_11e9_a483_0242ac1c0002row4_col1\" class=\"data row4 col1\" >-0.0349562</td>\n",
              "                        <td id=\"T_b6675af8_cfa1_11e9_a483_0242ac1c0002row4_col2\" class=\"data row4 col2\" >-0.00961036</td>\n",
              "                        <td id=\"T_b6675af8_cfa1_11e9_a483_0242ac1c0002row4_col3\" class=\"data row4 col3\" >0.0147636</td>\n",
              "                        <td id=\"T_b6675af8_cfa1_11e9_a483_0242ac1c0002row4_col4\" class=\"data row4 col4\" >1</td>\n",
              "                        <td id=\"T_b6675af8_cfa1_11e9_a483_0242ac1c0002row4_col5\" class=\"data row4 col5\" >-0.0688574</td>\n",
              "                        <td id=\"T_b6675af8_cfa1_11e9_a483_0242ac1c0002row4_col6\" class=\"data row4 col6\" >0.0451743</td>\n",
              "                        <td id=\"T_b6675af8_cfa1_11e9_a483_0242ac1c0002row4_col7\" class=\"data row4 col7\" >0.0208111</td>\n",
              "                        <td id=\"T_b6675af8_cfa1_11e9_a483_0242ac1c0002row4_col8\" class=\"data row4 col8\" >-0.279099</td>\n",
              "                        <td id=\"T_b6675af8_cfa1_11e9_a483_0242ac1c0002row4_col9\" class=\"data row4 col9\" >-0.0361114</td>\n",
              "                        <td id=\"T_b6675af8_cfa1_11e9_a483_0242ac1c0002row4_col10\" class=\"data row4 col10\" >0.0342841</td>\n",
              "                        <td id=\"T_b6675af8_cfa1_11e9_a483_0242ac1c0002row4_col11\" class=\"data row4 col11\" >-0.034136</td>\n",
              "                        <td id=\"T_b6675af8_cfa1_11e9_a483_0242ac1c0002row4_col12\" class=\"data row4 col12\" >-0.0837022</td>\n",
              "                        <td id=\"T_b6675af8_cfa1_11e9_a483_0242ac1c0002row4_col13\" class=\"data row4 col13\" >-0.0160224</td>\n",
              "            </tr>\n",
              "            <tr>\n",
              "                        <th id=\"T_b6675af8_cfa1_11e9_a483_0242ac1c0002level0_row5\" class=\"row_heading level0 row5\" >lay</th>\n",
              "                        <td id=\"T_b6675af8_cfa1_11e9_a483_0242ac1c0002row5_col0\" class=\"data row5 col0\" >0.00880153</td>\n",
              "                        <td id=\"T_b6675af8_cfa1_11e9_a483_0242ac1c0002row5_col1\" class=\"data row5 col1\" >0.186641</td>\n",
              "                        <td id=\"T_b6675af8_cfa1_11e9_a483_0242ac1c0002row5_col2\" class=\"data row5 col2\" >0.0698096</td>\n",
              "                        <td id=\"T_b6675af8_cfa1_11e9_a483_0242ac1c0002row5_col3\" class=\"data row5 col3\" >-0.0240324</td>\n",
              "                        <td id=\"T_b6675af8_cfa1_11e9_a483_0242ac1c0002row5_col4\" class=\"data row5 col4\" >-0.0688574</td>\n",
              "                        <td id=\"T_b6675af8_cfa1_11e9_a483_0242ac1c0002row5_col5\" class=\"data row5 col5\" >1</td>\n",
              "                        <td id=\"T_b6675af8_cfa1_11e9_a483_0242ac1c0002row5_col6\" class=\"data row5 col6\" >0.463454</td>\n",
              "                        <td id=\"T_b6675af8_cfa1_11e9_a483_0242ac1c0002row5_col7\" class=\"data row5 col7\" >-0.357877</td>\n",
              "                        <td id=\"T_b6675af8_cfa1_11e9_a483_0242ac1c0002row5_col8\" class=\"data row5 col8\" >0.0608497</td>\n",
              "                        <td id=\"T_b6675af8_cfa1_11e9_a483_0242ac1c0002row5_col9\" class=\"data row5 col9\" >0.283192</td>\n",
              "                        <td id=\"T_b6675af8_cfa1_11e9_a483_0242ac1c0002row5_col10\" class=\"data row5 col10\" >0.589024</td>\n",
              "                        <td id=\"T_b6675af8_cfa1_11e9_a483_0242ac1c0002row5_col11\" class=\"data row5 col11\" >0.189228</td>\n",
              "                        <td id=\"T_b6675af8_cfa1_11e9_a483_0242ac1c0002row5_col12\" class=\"data row5 col12\" >-0.0302708</td>\n",
              "                        <td id=\"T_b6675af8_cfa1_11e9_a483_0242ac1c0002row5_col13\" class=\"data row5 col13\" >0.079862</td>\n",
              "            </tr>\n",
              "            <tr>\n",
              "                        <th id=\"T_b6675af8_cfa1_11e9_a483_0242ac1c0002level0_row6\" class=\"row_heading level0 row6\" >laz</th>\n",
              "                        <td id=\"T_b6675af8_cfa1_11e9_a483_0242ac1c0002row6_col0\" class=\"data row6 col0\" >0.0653991</td>\n",
              "                        <td id=\"T_b6675af8_cfa1_11e9_a483_0242ac1c0002row6_col1\" class=\"data row6 col1\" >0.0967097</td>\n",
              "                        <td id=\"T_b6675af8_cfa1_11e9_a483_0242ac1c0002row6_col2\" class=\"data row6 col2\" >0.157324</td>\n",
              "                        <td id=\"T_b6675af8_cfa1_11e9_a483_0242ac1c0002row6_col3\" class=\"data row6 col3\" >0.0554842</td>\n",
              "                        <td id=\"T_b6675af8_cfa1_11e9_a483_0242ac1c0002row6_col4\" class=\"data row6 col4\" >0.0451743</td>\n",
              "                        <td id=\"T_b6675af8_cfa1_11e9_a483_0242ac1c0002row6_col5\" class=\"data row6 col5\" >0.463454</td>\n",
              "                        <td id=\"T_b6675af8_cfa1_11e9_a483_0242ac1c0002row6_col6\" class=\"data row6 col6\" >1</td>\n",
              "                        <td id=\"T_b6675af8_cfa1_11e9_a483_0242ac1c0002row6_col7\" class=\"data row6 col7\" >-0.211874</td>\n",
              "                        <td id=\"T_b6675af8_cfa1_11e9_a483_0242ac1c0002row6_col8\" class=\"data row6 col8\" >-0.0135197</td>\n",
              "                        <td id=\"T_b6675af8_cfa1_11e9_a483_0242ac1c0002row6_col9\" class=\"data row6 col9\" >0.149534</td>\n",
              "                        <td id=\"T_b6675af8_cfa1_11e9_a483_0242ac1c0002row6_col10\" class=\"data row6 col10\" >0.411607</td>\n",
              "                        <td id=\"T_b6675af8_cfa1_11e9_a483_0242ac1c0002row6_col11\" class=\"data row6 col11\" >0.123902</td>\n",
              "                        <td id=\"T_b6675af8_cfa1_11e9_a483_0242ac1c0002row6_col12\" class=\"data row6 col12\" >-0.0568528</td>\n",
              "                        <td id=\"T_b6675af8_cfa1_11e9_a483_0242ac1c0002row6_col13\" class=\"data row6 col13\" >0.0424754</td>\n",
              "            </tr>\n",
              "            <tr>\n",
              "                        <th id=\"T_b6675af8_cfa1_11e9_a483_0242ac1c0002level0_row7\" class=\"row_heading level0 row7\" >lamag</th>\n",
              "                        <td id=\"T_b6675af8_cfa1_11e9_a483_0242ac1c0002row7_col0\" class=\"data row7 col0\" >-0.0247962</td>\n",
              "                        <td id=\"T_b6675af8_cfa1_11e9_a483_0242ac1c0002row7_col1\" class=\"data row7 col1\" >-0.0370852</td>\n",
              "                        <td id=\"T_b6675af8_cfa1_11e9_a483_0242ac1c0002row7_col2\" class=\"data row7 col2\" >0.174187</td>\n",
              "                        <td id=\"T_b6675af8_cfa1_11e9_a483_0242ac1c0002row7_col3\" class=\"data row7 col3\" >0.228127</td>\n",
              "                        <td id=\"T_b6675af8_cfa1_11e9_a483_0242ac1c0002row7_col4\" class=\"data row7 col4\" >0.0208111</td>\n",
              "                        <td id=\"T_b6675af8_cfa1_11e9_a483_0242ac1c0002row7_col5\" class=\"data row7 col5\" >-0.357877</td>\n",
              "                        <td id=\"T_b6675af8_cfa1_11e9_a483_0242ac1c0002row7_col6\" class=\"data row7 col6\" >-0.211874</td>\n",
              "                        <td id=\"T_b6675af8_cfa1_11e9_a483_0242ac1c0002row7_col7\" class=\"data row7 col7\" >1</td>\n",
              "                        <td id=\"T_b6675af8_cfa1_11e9_a483_0242ac1c0002row7_col8\" class=\"data row7 col8\" >-0.0359564</td>\n",
              "                        <td id=\"T_b6675af8_cfa1_11e9_a483_0242ac1c0002row7_col9\" class=\"data row7 col9\" >-0.161888</td>\n",
              "                        <td id=\"T_b6675af8_cfa1_11e9_a483_0242ac1c0002row7_col10\" class=\"data row7 col10\" >-0.301407</td>\n",
              "                        <td id=\"T_b6675af8_cfa1_11e9_a483_0242ac1c0002row7_col11\" class=\"data row7 col11\" >-0.228895</td>\n",
              "                        <td id=\"T_b6675af8_cfa1_11e9_a483_0242ac1c0002row7_col12\" class=\"data row7 col12\" >0.0167475</td>\n",
              "                        <td id=\"T_b6675af8_cfa1_11e9_a483_0242ac1c0002row7_col13\" class=\"data row7 col13\" >-0.0953525</td>\n",
              "            </tr>\n",
              "            <tr>\n",
              "                        <th id=\"T_b6675af8_cfa1_11e9_a483_0242ac1c0002level0_row8\" class=\"row_heading level0 row8\" >gyrox</th>\n",
              "                        <td id=\"T_b6675af8_cfa1_11e9_a483_0242ac1c0002row8_col0\" class=\"data row8 col0\" >-0.0759341</td>\n",
              "                        <td id=\"T_b6675af8_cfa1_11e9_a483_0242ac1c0002row8_col1\" class=\"data row8 col1\" >0.0261527</td>\n",
              "                        <td id=\"T_b6675af8_cfa1_11e9_a483_0242ac1c0002row8_col2\" class=\"data row8 col2\" >0.0258815</td>\n",
              "                        <td id=\"T_b6675af8_cfa1_11e9_a483_0242ac1c0002row8_col3\" class=\"data row8 col3\" >0.00701099</td>\n",
              "                        <td id=\"T_b6675af8_cfa1_11e9_a483_0242ac1c0002row8_col4\" class=\"data row8 col4\" >-0.279099</td>\n",
              "                        <td id=\"T_b6675af8_cfa1_11e9_a483_0242ac1c0002row8_col5\" class=\"data row8 col5\" >0.0608497</td>\n",
              "                        <td id=\"T_b6675af8_cfa1_11e9_a483_0242ac1c0002row8_col6\" class=\"data row8 col6\" >-0.0135197</td>\n",
              "                        <td id=\"T_b6675af8_cfa1_11e9_a483_0242ac1c0002row8_col7\" class=\"data row8 col7\" >-0.0359564</td>\n",
              "                        <td id=\"T_b6675af8_cfa1_11e9_a483_0242ac1c0002row8_col8\" class=\"data row8 col8\" >1</td>\n",
              "                        <td id=\"T_b6675af8_cfa1_11e9_a483_0242ac1c0002row8_col9\" class=\"data row8 col9\" >0.04113</td>\n",
              "                        <td id=\"T_b6675af8_cfa1_11e9_a483_0242ac1c0002row8_col10\" class=\"data row8 col10\" >-0.0344373</td>\n",
              "                        <td id=\"T_b6675af8_cfa1_11e9_a483_0242ac1c0002row8_col11\" class=\"data row8 col11\" >0.0480059</td>\n",
              "                        <td id=\"T_b6675af8_cfa1_11e9_a483_0242ac1c0002row8_col12\" class=\"data row8 col12\" >0.110563</td>\n",
              "                        <td id=\"T_b6675af8_cfa1_11e9_a483_0242ac1c0002row8_col13\" class=\"data row8 col13\" >4.71146e-05</td>\n",
              "            </tr>\n",
              "            <tr>\n",
              "                        <th id=\"T_b6675af8_cfa1_11e9_a483_0242ac1c0002level0_row9\" class=\"row_heading level0 row9\" >gyroy</th>\n",
              "                        <td id=\"T_b6675af8_cfa1_11e9_a483_0242ac1c0002row9_col0\" class=\"data row9 col0\" >0.0194201</td>\n",
              "                        <td id=\"T_b6675af8_cfa1_11e9_a483_0242ac1c0002row9_col1\" class=\"data row9 col1\" >-0.0139207</td>\n",
              "                        <td id=\"T_b6675af8_cfa1_11e9_a483_0242ac1c0002row9_col2\" class=\"data row9 col2\" >-0.014723</td>\n",
              "                        <td id=\"T_b6675af8_cfa1_11e9_a483_0242ac1c0002row9_col3\" class=\"data row9 col3\" >-0.0252359</td>\n",
              "                        <td id=\"T_b6675af8_cfa1_11e9_a483_0242ac1c0002row9_col4\" class=\"data row9 col4\" >-0.0361114</td>\n",
              "                        <td id=\"T_b6675af8_cfa1_11e9_a483_0242ac1c0002row9_col5\" class=\"data row9 col5\" >0.283192</td>\n",
              "                        <td id=\"T_b6675af8_cfa1_11e9_a483_0242ac1c0002row9_col6\" class=\"data row9 col6\" >0.149534</td>\n",
              "                        <td id=\"T_b6675af8_cfa1_11e9_a483_0242ac1c0002row9_col7\" class=\"data row9 col7\" >-0.161888</td>\n",
              "                        <td id=\"T_b6675af8_cfa1_11e9_a483_0242ac1c0002row9_col8\" class=\"data row9 col8\" >0.04113</td>\n",
              "                        <td id=\"T_b6675af8_cfa1_11e9_a483_0242ac1c0002row9_col9\" class=\"data row9 col9\" >1</td>\n",
              "                        <td id=\"T_b6675af8_cfa1_11e9_a483_0242ac1c0002row9_col10\" class=\"data row9 col10\" >0.344052</td>\n",
              "                        <td id=\"T_b6675af8_cfa1_11e9_a483_0242ac1c0002row9_col11\" class=\"data row9 col11\" >0.0445887</td>\n",
              "                        <td id=\"T_b6675af8_cfa1_11e9_a483_0242ac1c0002row9_col12\" class=\"data row9 col12\" >-0.00310817</td>\n",
              "                        <td id=\"T_b6675af8_cfa1_11e9_a483_0242ac1c0002row9_col13\" class=\"data row9 col13\" >0.0880609</td>\n",
              "            </tr>\n",
              "            <tr>\n",
              "                        <th id=\"T_b6675af8_cfa1_11e9_a483_0242ac1c0002level0_row10\" class=\"row_heading level0 row10\" >gyroz</th>\n",
              "                        <td id=\"T_b6675af8_cfa1_11e9_a483_0242ac1c0002row10_col0\" class=\"data row10 col0\" >0.0722867</td>\n",
              "                        <td id=\"T_b6675af8_cfa1_11e9_a483_0242ac1c0002row10_col1\" class=\"data row10 col1\" >0.0238147</td>\n",
              "                        <td id=\"T_b6675af8_cfa1_11e9_a483_0242ac1c0002row10_col2\" class=\"data row10 col2\" >0.00710517</td>\n",
              "                        <td id=\"T_b6675af8_cfa1_11e9_a483_0242ac1c0002row10_col3\" class=\"data row10 col3\" >-0.0112135</td>\n",
              "                        <td id=\"T_b6675af8_cfa1_11e9_a483_0242ac1c0002row10_col4\" class=\"data row10 col4\" >0.0342841</td>\n",
              "                        <td id=\"T_b6675af8_cfa1_11e9_a483_0242ac1c0002row10_col5\" class=\"data row10 col5\" >0.589024</td>\n",
              "                        <td id=\"T_b6675af8_cfa1_11e9_a483_0242ac1c0002row10_col6\" class=\"data row10 col6\" >0.411607</td>\n",
              "                        <td id=\"T_b6675af8_cfa1_11e9_a483_0242ac1c0002row10_col7\" class=\"data row10 col7\" >-0.301407</td>\n",
              "                        <td id=\"T_b6675af8_cfa1_11e9_a483_0242ac1c0002row10_col8\" class=\"data row10 col8\" >-0.0344373</td>\n",
              "                        <td id=\"T_b6675af8_cfa1_11e9_a483_0242ac1c0002row10_col9\" class=\"data row10 col9\" >0.344052</td>\n",
              "                        <td id=\"T_b6675af8_cfa1_11e9_a483_0242ac1c0002row10_col10\" class=\"data row10 col10\" >1</td>\n",
              "                        <td id=\"T_b6675af8_cfa1_11e9_a483_0242ac1c0002row10_col11\" class=\"data row10 col11\" >0.0713986</td>\n",
              "                        <td id=\"T_b6675af8_cfa1_11e9_a483_0242ac1c0002row10_col12\" class=\"data row10 col12\" >-0.0481419</td>\n",
              "                        <td id=\"T_b6675af8_cfa1_11e9_a483_0242ac1c0002row10_col13\" class=\"data row10 col13\" >0.00225056</td>\n",
              "            </tr>\n",
              "            <tr>\n",
              "                        <th id=\"T_b6675af8_cfa1_11e9_a483_0242ac1c0002level0_row11\" class=\"row_heading level0 row11\" >rotationx</th>\n",
              "                        <td id=\"T_b6675af8_cfa1_11e9_a483_0242ac1c0002row11_col0\" class=\"data row11 col0\" >-0.119549</td>\n",
              "                        <td id=\"T_b6675af8_cfa1_11e9_a483_0242ac1c0002row11_col1\" class=\"data row11 col1\" >0.488538</td>\n",
              "                        <td id=\"T_b6675af8_cfa1_11e9_a483_0242ac1c0002row11_col2\" class=\"data row11 col2\" >0.192387</td>\n",
              "                        <td id=\"T_b6675af8_cfa1_11e9_a483_0242ac1c0002row11_col3\" class=\"data row11 col3\" >-0.175159</td>\n",
              "                        <td id=\"T_b6675af8_cfa1_11e9_a483_0242ac1c0002row11_col4\" class=\"data row11 col4\" >-0.034136</td>\n",
              "                        <td id=\"T_b6675af8_cfa1_11e9_a483_0242ac1c0002row11_col5\" class=\"data row11 col5\" >0.189228</td>\n",
              "                        <td id=\"T_b6675af8_cfa1_11e9_a483_0242ac1c0002row11_col6\" class=\"data row11 col6\" >0.123902</td>\n",
              "                        <td id=\"T_b6675af8_cfa1_11e9_a483_0242ac1c0002row11_col7\" class=\"data row11 col7\" >-0.228895</td>\n",
              "                        <td id=\"T_b6675af8_cfa1_11e9_a483_0242ac1c0002row11_col8\" class=\"data row11 col8\" >0.0480059</td>\n",
              "                        <td id=\"T_b6675af8_cfa1_11e9_a483_0242ac1c0002row11_col9\" class=\"data row11 col9\" >0.0445887</td>\n",
              "                        <td id=\"T_b6675af8_cfa1_11e9_a483_0242ac1c0002row11_col10\" class=\"data row11 col10\" >0.0713986</td>\n",
              "                        <td id=\"T_b6675af8_cfa1_11e9_a483_0242ac1c0002row11_col11\" class=\"data row11 col11\" >1</td>\n",
              "                        <td id=\"T_b6675af8_cfa1_11e9_a483_0242ac1c0002row11_col12\" class=\"data row11 col12\" >0.0104781</td>\n",
              "                        <td id=\"T_b6675af8_cfa1_11e9_a483_0242ac1c0002row11_col13\" class=\"data row11 col13\" >0.634548</td>\n",
              "            </tr>\n",
              "            <tr>\n",
              "                        <th id=\"T_b6675af8_cfa1_11e9_a483_0242ac1c0002level0_row12\" class=\"row_heading level0 row12\" >rotationy</th>\n",
              "                        <td id=\"T_b6675af8_cfa1_11e9_a483_0242ac1c0002row12_col0\" class=\"data row12 col0\" >-0.165482</td>\n",
              "                        <td id=\"T_b6675af8_cfa1_11e9_a483_0242ac1c0002row12_col1\" class=\"data row12 col1\" >-0.0754623</td>\n",
              "                        <td id=\"T_b6675af8_cfa1_11e9_a483_0242ac1c0002row12_col2\" class=\"data row12 col2\" >-0.0810599</td>\n",
              "                        <td id=\"T_b6675af8_cfa1_11e9_a483_0242ac1c0002row12_col3\" class=\"data row12 col3\" >-0.0040244</td>\n",
              "                        <td id=\"T_b6675af8_cfa1_11e9_a483_0242ac1c0002row12_col4\" class=\"data row12 col4\" >-0.0837022</td>\n",
              "                        <td id=\"T_b6675af8_cfa1_11e9_a483_0242ac1c0002row12_col5\" class=\"data row12 col5\" >-0.0302708</td>\n",
              "                        <td id=\"T_b6675af8_cfa1_11e9_a483_0242ac1c0002row12_col6\" class=\"data row12 col6\" >-0.0568528</td>\n",
              "                        <td id=\"T_b6675af8_cfa1_11e9_a483_0242ac1c0002row12_col7\" class=\"data row12 col7\" >0.0167475</td>\n",
              "                        <td id=\"T_b6675af8_cfa1_11e9_a483_0242ac1c0002row12_col8\" class=\"data row12 col8\" >0.110563</td>\n",
              "                        <td id=\"T_b6675af8_cfa1_11e9_a483_0242ac1c0002row12_col9\" class=\"data row12 col9\" >-0.00310817</td>\n",
              "                        <td id=\"T_b6675af8_cfa1_11e9_a483_0242ac1c0002row12_col10\" class=\"data row12 col10\" >-0.0481419</td>\n",
              "                        <td id=\"T_b6675af8_cfa1_11e9_a483_0242ac1c0002row12_col11\" class=\"data row12 col11\" >0.0104781</td>\n",
              "                        <td id=\"T_b6675af8_cfa1_11e9_a483_0242ac1c0002row12_col12\" class=\"data row12 col12\" >1</td>\n",
              "                        <td id=\"T_b6675af8_cfa1_11e9_a483_0242ac1c0002row12_col13\" class=\"data row12 col13\" >-0.102377</td>\n",
              "            </tr>\n",
              "            <tr>\n",
              "                        <th id=\"T_b6675af8_cfa1_11e9_a483_0242ac1c0002level0_row13\" class=\"row_heading level0 row13\" >rotationz</th>\n",
              "                        <td id=\"T_b6675af8_cfa1_11e9_a483_0242ac1c0002row13_col0\" class=\"data row13 col0\" >-0.0333449</td>\n",
              "                        <td id=\"T_b6675af8_cfa1_11e9_a483_0242ac1c0002row13_col1\" class=\"data row13 col1\" >0.222678</td>\n",
              "                        <td id=\"T_b6675af8_cfa1_11e9_a483_0242ac1c0002row13_col2\" class=\"data row13 col2\" >0.0738759</td>\n",
              "                        <td id=\"T_b6675af8_cfa1_11e9_a483_0242ac1c0002row13_col3\" class=\"data row13 col3\" >-0.151765</td>\n",
              "                        <td id=\"T_b6675af8_cfa1_11e9_a483_0242ac1c0002row13_col4\" class=\"data row13 col4\" >-0.0160224</td>\n",
              "                        <td id=\"T_b6675af8_cfa1_11e9_a483_0242ac1c0002row13_col5\" class=\"data row13 col5\" >0.079862</td>\n",
              "                        <td id=\"T_b6675af8_cfa1_11e9_a483_0242ac1c0002row13_col6\" class=\"data row13 col6\" >0.0424754</td>\n",
              "                        <td id=\"T_b6675af8_cfa1_11e9_a483_0242ac1c0002row13_col7\" class=\"data row13 col7\" >-0.0953525</td>\n",
              "                        <td id=\"T_b6675af8_cfa1_11e9_a483_0242ac1c0002row13_col8\" class=\"data row13 col8\" >4.71146e-05</td>\n",
              "                        <td id=\"T_b6675af8_cfa1_11e9_a483_0242ac1c0002row13_col9\" class=\"data row13 col9\" >0.0880609</td>\n",
              "                        <td id=\"T_b6675af8_cfa1_11e9_a483_0242ac1c0002row13_col10\" class=\"data row13 col10\" >0.00225056</td>\n",
              "                        <td id=\"T_b6675af8_cfa1_11e9_a483_0242ac1c0002row13_col11\" class=\"data row13 col11\" >0.634548</td>\n",
              "                        <td id=\"T_b6675af8_cfa1_11e9_a483_0242ac1c0002row13_col12\" class=\"data row13 col12\" >-0.102377</td>\n",
              "                        <td id=\"T_b6675af8_cfa1_11e9_a483_0242ac1c0002row13_col13\" class=\"data row13 col13\" >1</td>\n",
              "            </tr>\n",
              "    </tbody></table>"
            ],
            "text/plain": [
              "<pandas.io.formats.style.Styler at 0x7f6a88b171d0>"
            ]
          },
          "metadata": {
            "tags": []
          },
          "execution_count": 55
        }
      ]
    },
    {
      "cell_type": "markdown",
      "metadata": {
        "id": "HEaZZ3y_SI8s",
        "colab_type": "text"
      },
      "source": [
        "drop one of the 2 features that have correlation >0.9"
      ]
    },
    {
      "cell_type": "code",
      "metadata": {
        "id": "ApI9k9LYSO7h",
        "colab_type": "code",
        "colab": {}
      },
      "source": [
        "columns = np.full((corr.shape[0],), True, dtype=bool)\n",
        "for i in range(corr.shape[0]):\n",
        "    for j in range(i+1, corr.shape[0]):\n",
        "        if corr.iloc[i,j] >= 0.8:\n",
        "            if columns[j]:\n",
        "                columns[j] = False\n",
        "selected_columns = data.columns[columns]\n",
        "data = data[selected_columns]"
      ],
      "execution_count": 0,
      "outputs": []
    },
    {
      "cell_type": "code",
      "metadata": {
        "id": "qGDS1L3nSXoU",
        "colab_type": "code",
        "outputId": "b8a1e4ca-c22f-4ab5-d3a0-4c51df6b8ba4",
        "colab": {
          "base_uri": "https://localhost:8080/",
          "height": 70
        }
      },
      "source": [
        "data.columns"
      ],
      "execution_count": 0,
      "outputs": [
        {
          "output_type": "execute_result",
          "data": {
            "text/plain": [
              "Index(['ax', 'ay', 'az', 'lax', 'lay', 'laz', 'lamag', 'gyrox', 'gyroy',\n",
              "       'gyroz', 'rotationx', 'rotationy', 'rotationz'],\n",
              "      dtype='object')"
            ]
          },
          "metadata": {
            "tags": []
          },
          "execution_count": 10
        }
      ]
    },
    {
      "cell_type": "code",
      "metadata": {
        "id": "pCj2vQ73S1nq",
        "colab_type": "code",
        "colab": {}
      },
      "source": [
        "dataset = data.to_numpy()"
      ],
      "execution_count": 0,
      "outputs": []
    },
    {
      "cell_type": "code",
      "metadata": {
        "id": "8MJCaow1TJ3H",
        "colab_type": "code",
        "outputId": "0c05c6b1-be1e-4d0e-8ae8-35e52aa50d6d",
        "colab": {
          "base_uri": "https://localhost:8080/",
          "height": 52
        }
      },
      "source": [
        "print(dataset.shape)\n",
        "dataset = dataset.reshape((6553,101,13))\n",
        "print(dataset.shape)"
      ],
      "execution_count": 350,
      "outputs": [
        {
          "output_type": "stream",
          "text": [
            "(661853, 13)\n",
            "(6553, 101, 13)\n"
          ],
          "name": "stdout"
        }
      ]
    },
    {
      "cell_type": "markdown",
      "metadata": {
        "id": "0JyU-BvJ1hWQ",
        "colab_type": "text"
      },
      "source": [
        "split dataset to letters and digits"
      ]
    },
    {
      "cell_type": "code",
      "metadata": {
        "id": "5zzCZ46S1Tyr",
        "colab_type": "code",
        "colab": {}
      },
      "source": [
        "letters = np.array(dataset[1819:])\n",
        "labels_letters = np.array(labels[1819:])\n",
        "digits = np.array(dataset[:1819])\n",
        "labels_digits=np.array(labels[:1819])"
      ],
      "execution_count": 0,
      "outputs": []
    },
    {
      "cell_type": "code",
      "metadata": {
        "id": "5H2GR9r61foI",
        "colab_type": "code",
        "outputId": "dc617992-7c34-429c-ac13-29ac57a14f00",
        "colab": {
          "base_uri": "https://localhost:8080/",
          "height": 35
        }
      },
      "source": [
        "np.array(letters).shape"
      ],
      "execution_count": 0,
      "outputs": [
        {
          "output_type": "execute_result",
          "data": {
            "text/plain": [
              "(4734, 101, 14)"
            ]
          },
          "metadata": {
            "tags": []
          },
          "execution_count": 62
        }
      ]
    },
    {
      "cell_type": "markdown",
      "metadata": {
        "id": "OoczQvvB1osH",
        "colab_type": "text"
      },
      "source": [
        "# Split Function (train and validation)"
      ]
    },
    {
      "cell_type": "code",
      "metadata": {
        "id": "E41R2-lS1sX6",
        "colab_type": "code",
        "colab": {}
      },
      "source": [
        "def split(data, labels, split_percent):\n",
        "  np.random.seed(42)\n",
        "  print(data.shape)\n",
        "  size = len(data)\n",
        "  train_size = (size * split_percent)\n",
        "  train_idx = np.random.choice(range(0, size), size=int(train_size), replace=False)\n",
        "  test_idx = list(set(range(0,size))-set(train_idx))\n",
        "  \n",
        "  X_train = data[train_idx]\n",
        "  X_test = data[test_idx]\n",
        "  y_train = labels[train_idx]\n",
        "  y_test = labels[test_idx]\n",
        "  \n",
        "  return X_train, y_train, X_test, y_test\n",
        "#   return train_idx, test_idx"
      ],
      "execution_count": 0,
      "outputs": []
    },
    {
      "cell_type": "code",
      "metadata": {
        "id": "L-tM8ppu1z5S",
        "colab_type": "code",
        "outputId": "5eedf306-3745-41cb-ca68-41427ed1e756",
        "colab": {
          "base_uri": "https://localhost:8080/",
          "height": 35
        }
      },
      "source": [
        "\n",
        "X_train, y_train, X_test, y_test = split(digits, labels_digits, 0.8)\n",
        "#normalize the data to be in range(0,1)\n",
        "#from sklearn.preprocessing import MinMaxScaler\n",
        "#scaler = MinMaxScaler()\n",
        "#train_X = scaler.fit_transform( np.array(X_train) )\n",
        "#test_X = scaler.transform( np.array(X37_test) )\n"
      ],
      "execution_count": 353,
      "outputs": [
        {
          "output_type": "stream",
          "text": [
            "(1819, 101, 13)\n"
          ],
          "name": "stdout"
        }
      ]
    },
    {
      "cell_type": "code",
      "metadata": {
        "id": "QgmkZYDCXMQ0",
        "colab_type": "code",
        "outputId": "1170a306-4780-47e0-d7b4-8881b8b06fc0",
        "colab": {
          "base_uri": "https://localhost:8080/",
          "height": 35
        }
      },
      "source": [
        "print(X_test.shape)"
      ],
      "execution_count": 221,
      "outputs": [
        {
          "output_type": "stream",
          "text": [
            "(364, 101, 14)\n"
          ],
          "name": "stdout"
        }
      ]
    },
    {
      "cell_type": "code",
      "metadata": {
        "id": "jlE7uFueWuAW",
        "colab_type": "code",
        "colab": {}
      },
      "source": [
        "X_train = X_train.reshape((1455,101,13))\n",
        "X_test =X_test.reshape((364,101,13))"
      ],
      "execution_count": 0,
      "outputs": []
    },
    {
      "cell_type": "code",
      "metadata": {
        "id": "y0OYq78EbHaN",
        "colab_type": "code",
        "outputId": "db79a7c7-18d4-4c85-ee36-5d9491486f55",
        "colab": {
          "base_uri": "https://localhost:8080/",
          "height": 35
        }
      },
      "source": [
        "X_train, y_train, X_valid, y_valid = split(digits, labels_digits, 0.9)"
      ],
      "execution_count": 0,
      "outputs": [
        {
          "output_type": "stream",
          "text": [
            "(1819, 101, 14)\n"
          ],
          "name": "stdout"
        }
      ]
    },
    {
      "cell_type": "code",
      "metadata": {
        "id": "Eb8VQvp7bVSu",
        "colab_type": "code",
        "outputId": "248da8c2-fd3a-4293-e9fc-4fa9e4a4801b",
        "colab": {
          "base_uri": "https://localhost:8080/",
          "height": 167
        }
      },
      "source": [
        "print(X_train.shape,\" \",X_valid.shape)"
      ],
      "execution_count": 0,
      "outputs": [
        {
          "output_type": "error",
          "ename": "NameError",
          "evalue": "ignored",
          "traceback": [
            "\u001b[0;31m---------------------------------------------------------------------------\u001b[0m",
            "\u001b[0;31mNameError\u001b[0m                                 Traceback (most recent call last)",
            "\u001b[0;32m<ipython-input-64-8ebac223bbe9>\u001b[0m in \u001b[0;36m<module>\u001b[0;34m()\u001b[0m\n\u001b[0;32m----> 1\u001b[0;31m \u001b[0mprint\u001b[0m\u001b[0;34m(\u001b[0m\u001b[0mX_train\u001b[0m\u001b[0;34m.\u001b[0m\u001b[0mshape\u001b[0m\u001b[0;34m,\u001b[0m\u001b[0;34m\" \"\u001b[0m\u001b[0;34m,\u001b[0m\u001b[0mX_valid\u001b[0m\u001b[0;34m.\u001b[0m\u001b[0mshape\u001b[0m\u001b[0;34m)\u001b[0m\u001b[0;34m\u001b[0m\u001b[0;34m\u001b[0m\u001b[0m\n\u001b[0m",
            "\u001b[0;31mNameError\u001b[0m: name 'X_valid' is not defined"
          ]
        }
      ]
    },
    {
      "cell_type": "markdown",
      "metadata": {
        "id": "hFYmeGLNxZfY",
        "colab_type": "text"
      },
      "source": [
        "# Data Augmentation using guassian noise"
      ]
    },
    {
      "cell_type": "code",
      "metadata": {
        "id": "6B2Mke56EQc1",
        "colab_type": "code",
        "outputId": "04e4d75d-de0e-46ca-e31a-71c3a22a94c5",
        "colab": {
          "base_uri": "https://localhost:8080/",
          "height": 90
        }
      },
      "source": [
        "import tensorflow as tf\n",
        "noise = tf.random_normal(shape=[101,13], mean=0.0, stddev=1.0,\n",
        "dtype=tf.float32)\n",
        "tf.InteractiveSession()  # run an interactive session in Tf.\n",
        "noise=noise.eval()\n",
        "print(type(noise))\n",
        "aug_data = X_train  + noise\n"
      ],
      "execution_count": 356,
      "outputs": [
        {
          "output_type": "stream",
          "text": [
            "/usr/local/lib/python3.6/dist-packages/tensorflow/python/client/session.py:1735: UserWarning: An interactive session is already active. This can cause out-of-memory errors in some cases. You must explicitly call `InteractiveSession.close()` to release resources held by the other session(s).\n",
            "  warnings.warn('An interactive session is already active. This can '\n"
          ],
          "name": "stderr"
        },
        {
          "output_type": "stream",
          "text": [
            "<class 'numpy.ndarray'>\n"
          ],
          "name": "stdout"
        }
      ]
    },
    {
      "cell_type": "code",
      "metadata": {
        "id": "W2tfMAvoHGoa",
        "colab_type": "code",
        "colab": {}
      },
      "source": [
        "aug_data= np.concatenate((aug_data, X_train), axis=0)"
      ],
      "execution_count": 0,
      "outputs": []
    },
    {
      "cell_type": "code",
      "metadata": {
        "id": "ySY5r-wcx9pB",
        "colab_type": "code",
        "outputId": "3cc6bf38-dda5-49e3-f9c9-a6b781978b29",
        "colab": {
          "base_uri": "https://localhost:8080/",
          "height": 70
        }
      },
      "source": [
        "print(aug_data.shape)\n",
        "print(X_train.shape)\n",
        "y_aug = np.concatenate((y_train,y_train),axis=0).flatten()\n",
        "print(y_aug.shape)"
      ],
      "execution_count": 358,
      "outputs": [
        {
          "output_type": "stream",
          "text": [
            "(2910, 101, 13)\n",
            "(1455, 101, 13)\n",
            "(2910,)\n"
          ],
          "name": "stdout"
        }
      ]
    },
    {
      "cell_type": "code",
      "metadata": {
        "id": "9qp0IxDksKqq",
        "colab_type": "code",
        "colab": {}
      },
      "source": [
        "aug_data = aug_data.reshape((1455*2,101*13))\n",
        "X_test =X_test.reshape((364,101*13))"
      ],
      "execution_count": 0,
      "outputs": []
    },
    {
      "cell_type": "markdown",
      "metadata": {
        "id": "8fn3ELmyTt3I",
        "colab_type": "text"
      },
      "source": [
        "# Time shift"
      ]
    },
    {
      "cell_type": "code",
      "metadata": {
        "id": "JiUdLQyKTwC9",
        "colab_type": "code",
        "colab": {}
      },
      "source": [
        "def time_shift(rows,features,data):\n",
        "  padding = np.zeros(rows,features)\n",
        "  new_data = np.concatenate((padding,data[rows:]),axis=0)\n",
        "  return new_data\n",
        "  "
      ],
      "execution_count": 0,
      "outputs": []
    },
    {
      "cell_type": "markdown",
      "metadata": {
        "id": "cEERchEz14Vx",
        "colab_type": "text"
      },
      "source": [
        "# *Normalize* the data"
      ]
    },
    {
      "cell_type": "code",
      "metadata": {
        "id": "OKgw5_F115lz",
        "colab_type": "code",
        "colab": {}
      },
      "source": [
        "#normalize the data to be in range(0,1)\n",
        "from sklearn.preprocessing import MinMaxScaler\n",
        "scaler = MinMaxScaler()\n",
        "X_train = scaler.fit_transform( np.array(aug_data) )\n",
        "X_test = scaler.transform( np.array(X_test) )\n"
      ],
      "execution_count": 0,
      "outputs": []
    },
    {
      "cell_type": "code",
      "metadata": {
        "id": "nobreKNB2EOh",
        "colab_type": "code",
        "outputId": "ca3b0f0a-e368-4dd7-c1d0-1d4a518d189d",
        "colab": {
          "base_uri": "https://localhost:8080/",
          "height": 35
        }
      },
      "source": [
        "print(X_train.shape,\" \",X_test.shape)"
      ],
      "execution_count": 226,
      "outputs": [
        {
          "output_type": "stream",
          "text": [
            "(1455, 1414)   (364, 1414)\n"
          ],
          "name": "stdout"
        }
      ]
    },
    {
      "cell_type": "code",
      "metadata": {
        "id": "u2eJgKEo3sSb",
        "colab_type": "code",
        "colab": {}
      },
      "source": [
        "X_train = X_train.reshape((1455*2,1313))\n",
        "X_test =X_test.reshape((364,1313))"
      ],
      "execution_count": 0,
      "outputs": []
    },
    {
      "cell_type": "markdown",
      "metadata": {
        "id": "rgHRofcMt_Ab",
        "colab_type": "text"
      },
      "source": [
        "# RANDOM FOREST"
      ]
    },
    {
      "cell_type": "code",
      "metadata": {
        "id": "hgG8LFyBuAew",
        "colab_type": "code",
        "outputId": "786401a6-6d1b-496c-e2bc-fa38ee36b1b2",
        "colab": {
          "base_uri": "https://localhost:8080/",
          "height": 52
        }
      },
      "source": [
        "from sklearn.ensemble import RandomForestClassifier\n",
        "from sklearn.metrics import accuracy_score\n",
        "clfRandomForest = RandomForestClassifier(n_estimators=800,min_samples_split = 4, min_samples_leaf = 2,max_features = 'sqrt',         \n",
        "    max_depth = 200)\n",
        "clfRandomForest.fit(X_train, y_aug)  \n",
        "output_labels = clfRandomForest.predict(X_test\n",
        "                                       )\n",
        "    #calculate accuracy\n",
        "train_labels = clfRandomForest.predict(X_train)\n",
        "print( \"train:\",accuracy_score(y_aug,train_labels))\n",
        "print( \"valid:\",accuracy_score(y_test,output_labels))"
      ],
      "execution_count": 0,
      "outputs": [
        {
          "output_type": "stream",
          "text": [
            "train: 1.0\n",
            "valid: 0.6156282998944034\n"
          ],
          "name": "stdout"
        }
      ]
    },
    {
      "cell_type": "code",
      "metadata": {
        "id": "zaTVdhnxuGJE",
        "colab_type": "code",
        "colab": {}
      },
      "source": [
        "output_labels = clfRandomForest.predict(X_test)\n",
        "print( \"valid:\",accuracy_score(y_test,output_labels))"
      ],
      "execution_count": 0,
      "outputs": []
    },
    {
      "cell_type": "markdown",
      "metadata": {
        "id": "kYoLzusxfbzI",
        "colab_type": "text"
      },
      "source": [
        "# 1D Convolution **network**"
      ]
    },
    {
      "cell_type": "code",
      "metadata": {
        "id": "4_tb70smfiJu",
        "colab_type": "code",
        "colab": {}
      },
      "source": [
        "from keras.models import Sequential\n",
        "from keras import layers\n",
        "from keras.optimizers import Adam\n",
        "from keras.layers import Dense, Activation, Flatten, Conv1D, Dropout,MaxPooling1D\n",
        "\n",
        "model = Sequential()\n",
        "model.add(Conv1D(filters=32, kernel_size=3, input_shape=(1313,1 )))\n",
        "model.add(MaxPooling1D(pool_size=3 ))\n",
        "model.add(Conv1D(filters=64, kernel_size=3))\n",
        "model.add(MaxPooling1D(pool_size=3 ))\n",
        "model.add(Conv1D(filters=64, kernel_size=3))\n",
        "model.add(MaxPooling1D(pool_size=3 ))\n",
        "model.add(Conv1D(filters=128, kernel_size=3))\n",
        "model.add(MaxPooling1D(pool_size=3 ))\n",
        "model.add(Flatten())\n",
        "model.add(Dense(512, activation='relu'))\n",
        "model.add(Dense(256, activation='relu'))\n",
        "model.add(Dense(10, activation='softmax'))\n"
      ],
      "execution_count": 0,
      "outputs": []
    },
    {
      "cell_type": "code",
      "metadata": {
        "id": "2YnE4rJ536vc",
        "colab_type": "code",
        "outputId": "ee99d91e-f722-424e-ca77-0a99e297c411",
        "colab": {
          "base_uri": "https://localhost:8080/",
          "height": 728
        }
      },
      "source": [
        "model.summary()"
      ],
      "execution_count": 0,
      "outputs": [
        {
          "output_type": "stream",
          "text": [
            "Model: \"sequential_1\"\n",
            "_________________________________________________________________\n",
            "Layer (type)                 Output Shape              Param #   \n",
            "=================================================================\n",
            "conv1d_1 (Conv1D)            (None, 1311, 32)          128       \n",
            "_________________________________________________________________\n",
            "max_pooling1d_1 (MaxPooling1 (None, 437, 32)           0         \n",
            "_________________________________________________________________\n",
            "conv1d_2 (Conv1D)            (None, 435, 64)           6208      \n",
            "_________________________________________________________________\n",
            "max_pooling1d_2 (MaxPooling1 (None, 145, 64)           0         \n",
            "_________________________________________________________________\n",
            "conv1d_3 (Conv1D)            (None, 143, 64)           12352     \n",
            "_________________________________________________________________\n",
            "max_pooling1d_3 (MaxPooling1 (None, 47, 64)            0         \n",
            "_________________________________________________________________\n",
            "conv1d_4 (Conv1D)            (None, 45, 128)           24704     \n",
            "_________________________________________________________________\n",
            "max_pooling1d_4 (MaxPooling1 (None, 15, 128)           0         \n",
            "_________________________________________________________________\n",
            "conv1d_5 (Conv1D)            (None, 13, 128)           49280     \n",
            "_________________________________________________________________\n",
            "max_pooling1d_5 (MaxPooling1 (None, 4, 128)            0         \n",
            "_________________________________________________________________\n",
            "conv1d_6 (Conv1D)            (None, 2, 256)            98560     \n",
            "_________________________________________________________________\n",
            "max_pooling1d_6 (MaxPooling1 (None, 1, 256)            0         \n",
            "_________________________________________________________________\n",
            "flatten_1 (Flatten)          (None, 256)               0         \n",
            "_________________________________________________________________\n",
            "dense_1 (Dense)              (None, 512)               131584    \n",
            "_________________________________________________________________\n",
            "dense_2 (Dense)              (None, 256)               131328    \n",
            "_________________________________________________________________\n",
            "dense_3 (Dense)              (None, 10)                2570      \n",
            "=================================================================\n",
            "Total params: 456,714\n",
            "Trainable params: 456,714\n",
            "Non-trainable params: 0\n",
            "_________________________________________________________________\n"
          ],
          "name": "stdout"
        }
      ]
    },
    {
      "cell_type": "code",
      "metadata": {
        "id": "VW3ouJol4FJZ",
        "colab_type": "code",
        "colab": {}
      },
      "source": [
        "from keras.optimizers import adam\n",
        "op = keras.optimizers.Adam(lr=0.001, beta_1=0.9, beta_2=0.999, epsilon=1e-8, decay=0.0, amsgrad=False)\n",
        "model.compile(loss='categorical_crossentropy', optimizer=op, metrics=['accuracy'])"
      ],
      "execution_count": 0,
      "outputs": []
    },
    {
      "cell_type": "code",
      "metadata": {
        "id": "0vKKiyggNtLl",
        "colab_type": "code",
        "colab": {}
      },
      "source": [
        "y_train = y_aug 10\n",
        "y_test = y_test-10"
      ],
      "execution_count": 0,
      "outputs": []
    },
    {
      "cell_type": "code",
      "metadata": {
        "id": "Z-dZpS_bdKaI",
        "colab_type": "code",
        "outputId": "88099d98-aeb6-4593-9346-c36d3b5414cd",
        "colab": {
          "base_uri": "https://localhost:8080/",
          "height": 35
        }
      },
      "source": [
        "print(np.max(y_train))"
      ],
      "execution_count": 286,
      "outputs": [
        {
          "output_type": "stream",
          "text": [
            "9.0\n"
          ],
          "name": "stdout"
        }
      ]
    },
    {
      "cell_type": "code",
      "metadata": {
        "id": "Bll_94_391K4",
        "colab_type": "code",
        "colab": {}
      },
      "source": [
        "y_train_b = keras.utils.to_categorical(y_aug, 10)\n",
        "y_test_b = keras.utils.to_categorical(y_test, 10)"
      ],
      "execution_count": 0,
      "outputs": []
    },
    {
      "cell_type": "code",
      "metadata": {
        "id": "_58wky-lNybM",
        "colab_type": "code",
        "colab": {}
      },
      "source": [
        "X_train = X_train.reshape((1455*2,1313,1))\n",
        "X_test = X_test.reshape((364,1313,1))"
      ],
      "execution_count": 0,
      "outputs": []
    },
    {
      "cell_type": "code",
      "metadata": {
        "id": "kF_RRgYB4Js1",
        "colab_type": "code",
        "outputId": "4494add5-9293-4fda-84c1-aefc9b330686",
        "colab": {
          "base_uri": "https://localhost:8080/",
          "height": 835
        }
      },
      "source": [
        "\n",
        "model.fit(X_train, y_train_b, epochs=60, batch_size=50, verbose =2, validation_split=0.1, callbacks =[keras.callbacks.EarlyStopping(monitor='val_loss', patience=5, verbose=0, mode='auto')])"
      ],
      "execution_count": 395,
      "outputs": [
        {
          "output_type": "stream",
          "text": [
            "Train on 2619 samples, validate on 291 samples\n",
            "Epoch 1/60\n",
            " - 10s - loss: 2.3302 - acc: 0.1092 - val_loss: 2.2796 - val_acc: 0.1271\n",
            "Epoch 2/60\n",
            " - 8s - loss: 2.2151 - acc: 0.1688 - val_loss: 2.1198 - val_acc: 0.2165\n",
            "Epoch 3/60\n",
            " - 8s - loss: 2.0001 - acc: 0.2631 - val_loss: 1.9090 - val_acc: 0.2818\n",
            "Epoch 4/60\n",
            " - 8s - loss: 1.6955 - acc: 0.3979 - val_loss: 1.6943 - val_acc: 0.3849\n",
            "Epoch 5/60\n",
            " - 8s - loss: 1.3980 - acc: 0.5178 - val_loss: 1.5950 - val_acc: 0.4433\n",
            "Epoch 6/60\n",
            " - 8s - loss: 1.1117 - acc: 0.6170 - val_loss: 1.3068 - val_acc: 0.5464\n",
            "Epoch 7/60\n",
            " - 8s - loss: 0.9137 - acc: 0.6945 - val_loss: 1.0126 - val_acc: 0.6564\n",
            "Epoch 8/60\n",
            " - 8s - loss: 0.6570 - acc: 0.7839 - val_loss: 0.9618 - val_acc: 0.6495\n",
            "Epoch 9/60\n",
            " - 8s - loss: 0.5161 - acc: 0.8274 - val_loss: 0.8132 - val_acc: 0.7182\n",
            "Epoch 10/60\n",
            " - 8s - loss: 0.3836 - acc: 0.8698 - val_loss: 0.7696 - val_acc: 0.7285\n",
            "Epoch 11/60\n",
            " - 8s - loss: 0.3159 - acc: 0.8973 - val_loss: 0.6433 - val_acc: 0.7629\n",
            "Epoch 12/60\n",
            " - 8s - loss: 0.2401 - acc: 0.9317 - val_loss: 0.6876 - val_acc: 0.7698\n",
            "Epoch 13/60\n",
            " - 8s - loss: 0.2123 - acc: 0.9339 - val_loss: 0.5868 - val_acc: 0.8110\n",
            "Epoch 14/60\n",
            " - 8s - loss: 0.1812 - acc: 0.9450 - val_loss: 0.4681 - val_acc: 0.8557\n",
            "Epoch 15/60\n",
            " - 8s - loss: 0.1294 - acc: 0.9626 - val_loss: 0.4148 - val_acc: 0.8625\n",
            "Epoch 16/60\n",
            " - 8s - loss: 0.1050 - acc: 0.9675 - val_loss: 0.6412 - val_acc: 0.8007\n",
            "Epoch 17/60\n",
            " - 8s - loss: 0.0802 - acc: 0.9782 - val_loss: 0.3563 - val_acc: 0.8694\n",
            "Epoch 18/60\n",
            " - 8s - loss: 0.0896 - acc: 0.9691 - val_loss: 0.4277 - val_acc: 0.8282\n",
            "Epoch 19/60\n",
            " - 8s - loss: 0.0707 - acc: 0.9805 - val_loss: 0.4958 - val_acc: 0.8351\n",
            "Epoch 20/60\n",
            " - 8s - loss: 0.0555 - acc: 0.9836 - val_loss: 0.4693 - val_acc: 0.8351\n",
            "Epoch 21/60\n",
            " - 8s - loss: 0.0511 - acc: 0.9870 - val_loss: 0.5369 - val_acc: 0.8247\n",
            "Epoch 22/60\n",
            " - 8s - loss: 0.0474 - acc: 0.9878 - val_loss: 0.7647 - val_acc: 0.7835\n"
          ],
          "name": "stdout"
        },
        {
          "output_type": "execute_result",
          "data": {
            "text/plain": [
              "<keras.callbacks.History at 0x7fc7212c0b00>"
            ]
          },
          "metadata": {
            "tags": []
          },
          "execution_count": 395
        }
      ]
    },
    {
      "cell_type": "markdown",
      "metadata": {
        "id": "8cxRlYQsfEPW",
        "colab_type": "text"
      },
      "source": [
        "# Evaluation "
      ]
    },
    {
      "cell_type": "code",
      "metadata": {
        "id": "xCgALK0Be2_d",
        "colab_type": "code",
        "outputId": "7c436a24-2ae8-4da8-fe47-eecd8cd92070",
        "colab": {
          "base_uri": "https://localhost:8080/",
          "height": 230
        }
      },
      "source": [
        "X_test = X_test.reshape((364,1313,1))\n",
        "rounded_pred = model.predict_classes(X_test,batch_size = 10)\n",
        "print(rounded_pred)\n",
        "score = model.evaluate(X_test, y_test_b, verbose=0, batch_size=10)\n",
        "print('loss','accuracy:')\n",
        "print(score)\n"
      ],
      "execution_count": 397,
      "outputs": [
        {
          "output_type": "stream",
          "text": [
            "[3 0 0 0 1 7 0 0 0 0 0 0 0 1 0 0 0 7 0 0 1 0 0 0 2 1 1 2 0 2 1 1 5 0 1 3 1\n",
            " 7 3 1 1 1 1 2 1 1 1 1 1 1 1 1 1 1 1 2 2 5 2 7 1 1 1 2 2 7 2 2 2 2 2 2 3 2\n",
            " 2 2 2 2 2 5 4 2 2 2 2 2 2 2 2 2 2 2 3 1 3 2 2 2 3 3 3 3 3 3 3 3 2 3 3 3 4\n",
            " 3 2 1 3 2 2 2 2 2 2 3 1 2 3 2 2 2 2 3 3 3 5 4 7 3 1 4 4 4 4 4 4 1 4 2 4 4\n",
            " 4 3 4 7 3 4 4 4 5 2 5 4 2 9 5 1 4 4 4 4 3 4 5 0 5 5 5 5 5 9 5 4 3 7 5 2 5\n",
            " 5 5 8 5 5 7 1 5 2 0 5 5 5 5 2 1 1 4 5 1 3 3 0 7 7 7 9 1 8 6 6 6 6 6 3 7 0\n",
            " 5 6 7 7 7 5 6 2 2 6 6 6 1 9 6 6 1 7 1 6 7 9 7 3 1 2 7 7 1 7 7 7 7 7 7 1 7\n",
            " 7 7 7 7 2 7 2 7 7 7 7 9 7 1 7 7 7 7 7 7 7 7 7 4 7 7 7 1 1 8 8 8 8 8 3 1 3\n",
            " 4 8 8 8 8 8 9 8 8 8 8 7 8 1 2 2 0 8 8 8 0 0 8 5 9 8 9 8 8 7 7 9 9 9 9 9 9\n",
            " 9 9 9 9 9 9 8 9 9 9 9 9 9 9 9 4 9 4 3 9 2 9 9 9 9 1 7 0 7 7 7]\n",
            "loss accuracy:\n",
            "[2.1257021515579013, 0.5934065942662757]\n"
          ],
          "name": "stdout"
        }
      ]
    },
    {
      "cell_type": "markdown",
      "metadata": {
        "id": "1EFWqawZ9jeM",
        "colab_type": "text"
      },
      "source": [
        "Confusion matrix"
      ]
    },
    {
      "cell_type": "code",
      "metadata": {
        "id": "rR6k274_9lRv",
        "colab_type": "code",
        "outputId": "781fc62c-0dcd-4bd5-c0f9-d36f9f23a07f",
        "colab": {
          "base_uri": "https://localhost:8080/",
          "height": 287
        }
      },
      "source": [
        "import seaborn as sns\n",
        "ax1= sns.distplot(y_test,hist = True,color = 'r',label=\"actualvalues\")\n",
        "sns.distplot(rounded_pred,hist = True,color = 'b',label=\"predicted\",ax=ax1)"
      ],
      "execution_count": 0,
      "outputs": [
        {
          "output_type": "execute_result",
          "data": {
            "text/plain": [
              "<matplotlib.axes._subplots.AxesSubplot at 0x7fdeaee886d8>"
            ]
          },
          "metadata": {
            "tags": []
          },
          "execution_count": 237
        },
        {
          "output_type": "display_data",
          "data": {
            "image/png": "[encoded data removed]",
            "text/plain": [
              "<Figure size 432x288 with 1 Axes>"
            ]
          },
          "metadata": {
            "tags": []
          }
        }
      ]
    },
    {
      "cell_type": "markdown",
      "metadata": {
        "id": "mv8DbQ5Rp0Dx",
        "colab_type": "text"
      },
      "source": [
        "# RESIZE FOR 3D "
      ]
    },
    {
      "cell_type": "code",
      "metadata": {
        "id": "SeMU9g2svzIE",
        "colab_type": "code",
        "colab": {}
      },
      "source": [
        "X_train = np.resize(X_train,(2910,1300))\n",
        "X_test = np.resize(X_test,(364,1300))\n",
        "X_train = X_train.reshape((2910,50,26))\n",
        "X_test  =X_test.reshape((364,50,26))\n"
      ],
      "execution_count": 0,
      "outputs": []
    },
    {
      "cell_type": "code",
      "metadata": {
        "id": "xeSHUtZvJQW_",
        "colab_type": "code",
        "colab": {}
      },
      "source": [
        "X_train = np.stack((X_train, X_train,X_train),axis=-1)\n",
        "X_test = np.stack((X_test, X_test,X_test),axis=-1)"
      ],
      "execution_count": 0,
      "outputs": []
    },
    {
      "cell_type": "code",
      "metadata": {
        "id": "kJ4pl5FaJXHa",
        "colab_type": "code",
        "outputId": "035f3737-1255-4a29-c2f1-8ebfa5caacf1",
        "colab": {
          "base_uri": "https://localhost:8080/",
          "height": 35
        }
      },
      "source": [
        "print(X_train.shape)"
      ],
      "execution_count": 0,
      "outputs": [
        {
          "output_type": "stream",
          "text": [
            "(2910, 50, 26, 3)\n"
          ],
          "name": "stdout"
        }
      ]
    },
    {
      "cell_type": "code",
      "metadata": {
        "id": "r_6xnOqR1yaH",
        "colab_type": "code",
        "outputId": "2a877935-9e99-4eb6-de10-427dd31d821b",
        "colab": {
          "base_uri": "https://localhost:8080/",
          "height": 35
        }
      },
      "source": [
        "X_train, y_train, X_valid, y_valid = split(X_train, y_train, 0.9)"
      ],
      "execution_count": 0,
      "outputs": [
        {
          "output_type": "stream",
          "text": [
            "(3787, 35, 40, 3)\n"
          ],
          "name": "stdout"
        }
      ]
    },
    {
      "cell_type": "code",
      "metadata": {
        "id": "Hmf9N2tP1oSU",
        "colab_type": "code",
        "colab": {}
      },
      "source": [
        "# For some reason\n",
        "y_train = y_train.flatten()\n",
        "y_test = y_test.flatten()"
      ],
      "execution_count": 0,
      "outputs": []
    },
    {
      "cell_type": "markdown",
      "metadata": {
        "id": "0FwO6Uw81-3T",
        "colab_type": "text"
      },
      "source": [
        "# Classification"
      ]
    },
    {
      "cell_type": "markdown",
      "metadata": {
        "id": "12ZU1H00RGKp",
        "colab_type": "text"
      },
      "source": [
        "# Convolution Network"
      ]
    },
    {
      "cell_type": "code",
      "metadata": {
        "id": "i1kErXsZRLyw",
        "colab_type": "code",
        "colab": {}
      },
      "source": [
        "from keras.layers import Conv2D, MaxPooling2D\n",
        "import keras\n",
        "from keras.models import Sequential\n",
        "from keras.layers import Dense, Dropout, Flatten\n",
        "y_train = y_train +10\n",
        "y_test = y_test +10\n",
        "y_train_b = keras.utils.to_categorical(y_train, 10)\n",
        "y_test_b = keras.utils.to_categorical(y_test, 10)"
      ],
      "execution_count": 0,
      "outputs": []
    },
    {
      "cell_type": "code",
      "metadata": {
        "id": "tvsaho2RRuh-",
        "colab_type": "code",
        "colab": {}
      },
      "source": [
        "model = Sequential()\n",
        "model.add(Conv2D(32, kernel_size=(3, 3),\n",
        "                 activation='relu',\n",
        "                 input_shape=(50,26,3)))\n",
        "model.add(Conv2D(64, kernel_size=(3, 3),\n",
        "                 activation='relu'\n",
        "                ))\n",
        "model.add(MaxPooling2D(pool_size=(2, 2)))\n",
        "model.add(Flatten())\n",
        "model.add(Dense(128, activation='relu'))\n",
        "model.add(Dense(10, activation='softmax'))"
      ],
      "execution_count": 0,
      "outputs": []
    },
    {
      "cell_type": "code",
      "metadata": {
        "id": "8mCMmL8Kd2AA",
        "colab_type": "code",
        "outputId": "29de4145-d75b-4c3a-99a7-d9df32534de2",
        "colab": {
          "base_uri": "https://localhost:8080/",
          "height": 35
        }
      },
      "source": [
        "print(y_train)"
      ],
      "execution_count": 0,
      "outputs": [
        {
          "output_type": "stream",
          "text": [
            "[12.  1.  7. ... 15. 12. 11.]\n"
          ],
          "name": "stdout"
        }
      ]
    },
    {
      "cell_type": "code",
      "metadata": {
        "id": "6z1l8j87V9iL",
        "colab_type": "code",
        "outputId": "2408744f-f767-404f-c50a-3a84527c95ae",
        "colab": {
          "base_uri": "https://localhost:8080/",
          "height": 372
        }
      },
      "source": [
        "model.summary()"
      ],
      "execution_count": 0,
      "outputs": [
        {
          "output_type": "stream",
          "text": [
            "Model: \"sequential_3\"\n",
            "_________________________________________________________________\n",
            "Layer (type)                 Output Shape              Param #   \n",
            "=================================================================\n",
            "conv2d_1 (Conv2D)            (None, 48, 24, 32)        896       \n",
            "_________________________________________________________________\n",
            "conv2d_2 (Conv2D)            (None, 46, 22, 64)        18496     \n",
            "_________________________________________________________________\n",
            "max_pooling2d_1 (MaxPooling2 (None, 23, 11, 64)        0         \n",
            "_________________________________________________________________\n",
            "flatten_3 (Flatten)          (None, 16192)             0         \n",
            "_________________________________________________________________\n",
            "dense_7 (Dense)              (None, 128)               2072704   \n",
            "_________________________________________________________________\n",
            "dense_8 (Dense)              (None, 10)                1290      \n",
            "=================================================================\n",
            "Total params: 2,093,386\n",
            "Trainable params: 2,093,386\n",
            "Non-trainable params: 0\n",
            "_________________________________________________________________\n"
          ],
          "name": "stdout"
        }
      ]
    },
    {
      "cell_type": "code",
      "metadata": {
        "id": "hJKtV_YdSMIh",
        "colab_type": "code",
        "colab": {}
      },
      "source": [
        "from keras.optimizers import adam\n",
        "op = keras.optimizers.Adam(lr=0.001, beta_1=0.9, beta_2=0.999, epsilon=1e-8, decay=0.0, amsgrad=False)\n",
        "model.compile(loss='categorical_crossentropy', optimizer=op, metrics=['accuracy'])"
      ],
      "execution_count": 0,
      "outputs": []
    },
    {
      "cell_type": "code",
      "metadata": {
        "id": "m00z6gwJSaxS",
        "colab_type": "code",
        "outputId": "5b7ba9a3-7f3c-4a2c-9870-1ac3bfebb3b1",
        "colab": {
          "base_uri": "https://localhost:8080/",
          "height": 266
        }
      },
      "source": [
        "model.fit(X_train, y_train_b, epochs=60, batch_size=50, verbose =2, validation_split=0.1, callbacks =[keras.callbacks.EarlyStopping(monitor='val_loss', patience=5, verbose=0, mode='auto')])"
      ],
      "execution_count": 0,
      "outputs": [
        {
          "output_type": "stream",
          "text": [
            "Train on 2619 samples, validate on 291 samples\n",
            "Epoch 1/60\n",
            " - 12s - loss: 2.3358 - acc: 0.1035 - val_loss: 2.3027 - val_acc: 0.0722\n",
            "Epoch 2/60\n",
            " - 11s - loss: 2.3013 - acc: 0.1149 - val_loss: 2.3032 - val_acc: 0.0756\n",
            "Epoch 3/60\n",
            " - 11s - loss: 2.2985 - acc: 0.1153 - val_loss: 2.3110 - val_acc: 0.0687\n",
            "Epoch 4/60\n",
            " - 11s - loss: 2.2896 - acc: 0.1336 - val_loss: 2.3087 - val_acc: 0.0928\n",
            "Epoch 5/60\n",
            " - 11s - loss: 2.2661 - acc: 0.1520 - val_loss: 2.4061 - val_acc: 0.0825\n",
            "Epoch 6/60\n",
            " - 11s - loss: 2.2067 - acc: 0.2008 - val_loss: 2.3783 - val_acc: 0.1306\n"
          ],
          "name": "stdout"
        },
        {
          "output_type": "execute_result",
          "data": {
            "text/plain": [
              "<keras.callbacks.History at 0x7f285c6e45c0>"
            ]
          },
          "metadata": {
            "tags": []
          },
          "execution_count": 66
        }
      ]
    },
    {
      "cell_type": "markdown",
      "metadata": {
        "id": "5Qljv9nG39WI",
        "colab_type": "text"
      },
      "source": [
        "# RESNET Model"
      ]
    },
    {
      "cell_type": "code",
      "metadata": {
        "id": "gzPFw9uh3_IS",
        "colab_type": "code",
        "outputId": "5a1d5f15-4a84-4311-d4fd-e9b3d9a1286e",
        "colab": {
          "base_uri": "https://localhost:8080/",
          "height": 375
        }
      },
      "source": [
        "from keras import applications\n",
        "\n",
        "base_model = applications.resnet50.ResNet50(weights= 'imagenet', include_top=False, input_shape= (35,40,3))\n"
      ],
      "execution_count": 0,
      "outputs": [
        {
          "output_type": "stream",
          "text": [
            "WARNING: Logging before flag parsing goes to stderr.\n",
            "W0827 06:55:38.923965 139926750480256 deprecation_wrapper.py:119] From /usr/local/lib/python3.6/dist-packages/keras/backend/tensorflow_backend.py:74: The name tf.get_default_graph is deprecated. Please use tf.compat.v1.get_default_graph instead.\n",
            "\n",
            "W0827 06:55:38.966801 139926750480256 deprecation_wrapper.py:119] From /usr/local/lib/python3.6/dist-packages/keras/backend/tensorflow_backend.py:517: The name tf.placeholder is deprecated. Please use tf.compat.v1.placeholder instead.\n",
            "\n",
            "W0827 06:55:38.988155 139926750480256 deprecation_wrapper.py:119] From /usr/local/lib/python3.6/dist-packages/keras/backend/tensorflow_backend.py:4185: The name tf.truncated_normal is deprecated. Please use tf.random.truncated_normal instead.\n",
            "\n",
            "W0827 06:55:39.036451 139926750480256 deprecation_wrapper.py:119] From /usr/local/lib/python3.6/dist-packages/keras/backend/tensorflow_backend.py:174: The name tf.get_default_session is deprecated. Please use tf.compat.v1.get_default_session instead.\n",
            "\n",
            "W0827 06:55:39.037693 139926750480256 deprecation_wrapper.py:119] From /usr/local/lib/python3.6/dist-packages/keras/backend/tensorflow_backend.py:181: The name tf.ConfigProto is deprecated. Please use tf.compat.v1.ConfigProto instead.\n",
            "\n",
            "W0827 06:55:39.301706 139926750480256 deprecation_wrapper.py:119] From /usr/local/lib/python3.6/dist-packages/keras/backend/tensorflow_backend.py:1834: The name tf.nn.fused_batch_norm is deprecated. Please use tf.compat.v1.nn.fused_batch_norm instead.\n",
            "\n",
            "W0827 06:55:39.386572 139926750480256 deprecation_wrapper.py:119] From /usr/local/lib/python3.6/dist-packages/keras/backend/tensorflow_backend.py:3976: The name tf.nn.max_pool is deprecated. Please use tf.nn.max_pool2d instead.\n",
            "\n",
            "/usr/local/lib/python3.6/dist-packages/keras_applications/resnet50.py:265: UserWarning: The output shape of `ResNet50(include_top=False)` has been changed since Keras 2.2.0.\n",
            "  warnings.warn('The output shape of `ResNet50(include_top=False)` '\n"
          ],
          "name": "stderr"
        },
        {
          "output_type": "stream",
          "text": [
            "Downloading data from https://github.com/fchollet/deep-learning-models/releases/download/v0.2/resnet50_weights_tf_dim_ordering_tf_kernels_notop.h5\n",
            "94658560/94653016 [==============================] - 1s 0us/step\n"
          ],
          "name": "stdout"
        }
      ]
    },
    {
      "cell_type": "code",
      "metadata": {
        "id": "IWOrvXYYJolk",
        "colab_type": "code",
        "colab": {}
      },
      "source": [
        "SHAPE = (28, 28, 1)"
      ],
      "execution_count": 0,
      "outputs": []
    },
    {
      "cell_type": "code",
      "metadata": {
        "id": "ahaIZYWjAvKk",
        "colab_type": "code",
        "outputId": "0f3e6c51-54e6-4c1c-f489-839f6286d7e1",
        "colab": {
          "base_uri": "https://localhost:8080/",
          "height": 108
        }
      },
      "source": [
        "from keras import applications\n",
        "\n",
        "from keras.layers import (Activation, BatchNormalization, Convolution2D, Dense,\n",
        "                          Flatten, Input, MaxPooling2D, ZeroPadding2D,GlobalAveragePooling2D,Dropout)\n",
        "from keras.models import Model\n",
        "x = base_model.output\n",
        "x = GlobalAveragePooling2D()(x)\n",
        "x = Dropout(0.7)(x)\n",
        "predictions = Dense(10, activation= 'softmax')(x)\n",
        "model = Model(inputs = base_model.input, outputs = predictions)"
      ],
      "execution_count": 0,
      "outputs": [
        {
          "output_type": "stream",
          "text": [
            "W0827 06:56:05.409747 139926750480256 deprecation.py:506] From /usr/local/lib/python3.6/dist-packages/keras/backend/tensorflow_backend.py:3445: calling dropout (from tensorflow.python.ops.nn_ops) with keep_prob is deprecated and will be removed in a future version.\n",
            "Instructions for updating:\n",
            "Please use `rate` instead of `keep_prob`. Rate should be set to `rate = 1 - keep_prob`.\n",
            "W0827 06:56:05.410896 139926750480256 nn_ops.py:4224] Large dropout rate: 0.7 (>0.5). In TensorFlow 2.x, dropout() uses dropout rate instead of keep_prob. Please ensure that this is intended.\n"
          ],
          "name": "stderr"
        }
      ]
    },
    {
      "cell_type": "code",
      "metadata": {
        "id": "KSpBYxlZBRBf",
        "colab_type": "code",
        "outputId": "8383faf3-b252-469b-85aa-1bc2d93f2755",
        "colab": {
          "base_uri": "https://localhost:8080/",
          "height": 72
        }
      },
      "source": [
        "from keras.optimizers import adam\n",
        "op = keras.optimizers.Adam(lr=0.001, beta_1=0.9, beta_2=0.999, epsilon=1e-8, decay=0.0, amsgrad=False)\n",
        "model.compile(optimizer=op, loss='sparse_categorical_crossentropy',metrics=['accuracy'])\n"
      ],
      "execution_count": 0,
      "outputs": [
        {
          "output_type": "stream",
          "text": [
            "W0827 06:56:10.798480 139926750480256 deprecation_wrapper.py:119] From /usr/local/lib/python3.6/dist-packages/keras/optimizers.py:790: The name tf.train.Optimizer is deprecated. Please use tf.compat.v1.train.Optimizer instead.\n",
            "\n"
          ],
          "name": "stderr"
        }
      ]
    },
    {
      "cell_type": "code",
      "metadata": {
        "id": "S34Sf9-BBg_v",
        "colab_type": "code",
        "outputId": "5341717b-3248-4a40-a8d5-576d9030f6df",
        "colab": {
          "base_uri": "https://localhost:8080/",
          "height": 1000
        }
      },
      "source": [
        "model.fit(X_train, y_train, epochs=60, batch_size=50, verbose =2, validation_split=0.1)"
      ],
      "execution_count": 0,
      "outputs": [
        {
          "output_type": "stream",
          "text": [
            "W0827 06:56:14.049683 139926750480256 deprecation.py:323] From /usr/local/lib/python3.6/dist-packages/tensorflow/python/ops/math_grad.py:1250: add_dispatch_support.<locals>.wrapper (from tensorflow.python.ops.array_ops) is deprecated and will be removed in a future version.\n",
            "Instructions for updating:\n",
            "Use tf.where in 2.0, which has the same broadcast rule as np.where\n"
          ],
          "name": "stderr"
        },
        {
          "output_type": "stream",
          "text": [
            "Train on 1309 samples, validate on 146 samples\n",
            "Epoch 1/60\n",
            " - 171s - loss: 3.0351 - acc: 0.1115 - val_loss: 5.5508 - val_acc: 0.1164\n",
            "Epoch 2/60\n",
            " - 160s - loss: 2.6329 - acc: 0.1215 - val_loss: 2.2903 - val_acc: 0.0822\n",
            "Epoch 3/60\n",
            " - 161s - loss: 2.7433 - acc: 0.1207 - val_loss: 2.3034 - val_acc: 0.1370\n",
            "Epoch 4/60\n",
            " - 164s - loss: 2.7860 - acc: 0.1230 - val_loss: 2.6885 - val_acc: 0.1096\n",
            "Epoch 5/60\n",
            " - 166s - loss: 2.7264 - acc: 0.1131 - val_loss: 3.5943 - val_acc: 0.0685\n",
            "Epoch 6/60\n",
            " - 166s - loss: 2.6771 - acc: 0.1054 - val_loss: 2.2650 - val_acc: 0.1233\n",
            "Epoch 7/60\n",
            " - 166s - loss: 2.6083 - acc: 0.1062 - val_loss: 2.2894 - val_acc: 0.0753\n",
            "Epoch 8/60\n",
            " - 164s - loss: 2.6016 - acc: 0.1222 - val_loss: 2.4911 - val_acc: 0.0616\n",
            "Epoch 9/60\n",
            " - 166s - loss: 2.7027 - acc: 0.1291 - val_loss: 2.3045 - val_acc: 0.0685\n",
            "Epoch 10/60\n",
            " - 163s - loss: 2.8793 - acc: 0.1161 - val_loss: 3.9520 - val_acc: 0.0822\n",
            "Epoch 11/60\n",
            " - 166s - loss: 2.6756 - acc: 0.1054 - val_loss: 8.5479 - val_acc: 0.0959\n",
            "Epoch 12/60\n",
            " - 161s - loss: 2.6906 - acc: 0.1100 - val_loss: 4.1467 - val_acc: 0.0959\n",
            "Epoch 13/60\n",
            " - 164s - loss: 2.6522 - acc: 0.1192 - val_loss: 4.3332 - val_acc: 0.1301\n",
            "Epoch 14/60\n",
            " - 163s - loss: 2.5810 - acc: 0.1291 - val_loss: 3.5797 - val_acc: 0.1027\n",
            "Epoch 15/60\n",
            " - 164s - loss: 2.5678 - acc: 0.1261 - val_loss: 3.3515 - val_acc: 0.1301\n",
            "Epoch 16/60\n",
            " - 163s - loss: 2.6524 - acc: 0.1222 - val_loss: 2.3947 - val_acc: 0.1301\n",
            "Epoch 17/60\n",
            " - 162s - loss: 2.7793 - acc: 0.1245 - val_loss: 9.9341 - val_acc: 0.1438\n",
            "Epoch 18/60\n",
            " - 163s - loss: 2.6823 - acc: 0.1291 - val_loss: 4.4241 - val_acc: 0.1096\n",
            "Epoch 19/60\n",
            " - 164s - loss: 2.7020 - acc: 0.1207 - val_loss: 14.1309 - val_acc: 0.1233\n",
            "Epoch 20/60\n",
            " - 162s - loss: 2.6642 - acc: 0.1138 - val_loss: 10.6561 - val_acc: 0.0959\n",
            "Epoch 21/60\n",
            " - 160s - loss: 2.6422 - acc: 0.1108 - val_loss: 9.6511 - val_acc: 0.0616\n",
            "Epoch 22/60\n",
            " - 165s - loss: 2.5808 - acc: 0.1154 - val_loss: 7.3169 - val_acc: 0.1164\n",
            "Epoch 23/60\n",
            " - 163s - loss: 2.5545 - acc: 0.1169 - val_loss: 7.4321 - val_acc: 0.1164\n",
            "Epoch 24/60\n",
            " - 160s - loss: 2.5950 - acc: 0.1138 - val_loss: 6.8463 - val_acc: 0.1164\n",
            "Epoch 25/60\n",
            " - 164s - loss: 2.5425 - acc: 0.1199 - val_loss: 6.4007 - val_acc: 0.1164\n",
            "Epoch 26/60\n",
            " - 161s - loss: 2.6540 - acc: 0.1199 - val_loss: 6.3026 - val_acc: 0.1233\n",
            "Epoch 27/60\n",
            " - 159s - loss: 2.6343 - acc: 0.1184 - val_loss: 5.9731 - val_acc: 0.1233\n",
            "Epoch 28/60\n",
            " - 166s - loss: 2.6210 - acc: 0.1131 - val_loss: 3.7378 - val_acc: 0.0959\n",
            "Epoch 29/60\n",
            " - 163s - loss: 2.4981 - acc: 0.1245 - val_loss: 2.9569 - val_acc: 0.0685\n",
            "Epoch 30/60\n",
            " - 163s - loss: 2.5206 - acc: 0.1283 - val_loss: 4.0696 - val_acc: 0.1096\n",
            "Epoch 31/60\n",
            " - 157s - loss: 2.4986 - acc: 0.1192 - val_loss: 3.4049 - val_acc: 0.1164\n",
            "Epoch 32/60\n",
            " - 160s - loss: 2.4856 - acc: 0.1261 - val_loss: 3.3048 - val_acc: 0.1096\n",
            "Epoch 33/60\n",
            " - 162s - loss: 2.4795 - acc: 0.1299 - val_loss: 3.0575 - val_acc: 0.1096\n",
            "Epoch 34/60\n",
            " - 166s - loss: 2.4676 - acc: 0.1154 - val_loss: 14.4621 - val_acc: 0.1027\n",
            "Epoch 35/60\n",
            " - 162s - loss: 2.5720 - acc: 0.1176 - val_loss: 14.4621 - val_acc: 0.1027\n",
            "Epoch 36/60\n",
            " - 161s - loss: 2.5643 - acc: 0.1261 - val_loss: 14.4621 - val_acc: 0.1027\n",
            "Epoch 37/60\n",
            " - 163s - loss: 2.5220 - acc: 0.1154 - val_loss: 14.3795 - val_acc: 0.1027\n",
            "Epoch 38/60\n",
            " - 163s - loss: 2.5077 - acc: 0.1184 - val_loss: 10.6027 - val_acc: 0.1301\n",
            "Epoch 39/60\n",
            " - 163s - loss: 2.5629 - acc: 0.1169 - val_loss: 10.1646 - val_acc: 0.1096\n",
            "Epoch 40/60\n",
            " - 159s - loss: 2.5299 - acc: 0.1138 - val_loss: 14.3499 - val_acc: 0.0959\n",
            "Epoch 41/60\n",
            " - 170s - loss: 2.5207 - acc: 0.1199 - val_loss: 11.4326 - val_acc: 0.1027\n",
            "Epoch 42/60\n",
            " - 169s - loss: 2.4660 - acc: 0.1253 - val_loss: 8.7669 - val_acc: 0.1027\n",
            "Epoch 43/60\n",
            " - 165s - loss: 2.5385 - acc: 0.1184 - val_loss: 8.0499 - val_acc: 0.0959\n",
            "Epoch 44/60\n",
            " - 169s - loss: 2.5133 - acc: 0.1238 - val_loss: 6.9389 - val_acc: 0.0822\n",
            "Epoch 45/60\n"
          ],
          "name": "stdout"
        },
        {
          "output_type": "error",
          "ename": "KeyboardInterrupt",
          "evalue": "ignored",
          "traceback": [
            "\u001b[0;31m---------------------------------------------------------------------------\u001b[0m",
            "\u001b[0;31mKeyboardInterrupt\u001b[0m                         Traceback (most recent call last)",
            "\u001b[0;32m<ipython-input-26-ed75d725ac2c>\u001b[0m in \u001b[0;36m<module>\u001b[0;34m()\u001b[0m\n\u001b[0;32m----> 1\u001b[0;31m \u001b[0mmodel\u001b[0m\u001b[0;34m.\u001b[0m\u001b[0mfit\u001b[0m\u001b[0;34m(\u001b[0m\u001b[0mX_train\u001b[0m\u001b[0;34m,\u001b[0m \u001b[0my_train\u001b[0m\u001b[0;34m,\u001b[0m \u001b[0mepochs\u001b[0m\u001b[0;34m=\u001b[0m\u001b[0;36m60\u001b[0m\u001b[0;34m,\u001b[0m \u001b[0mbatch_size\u001b[0m\u001b[0;34m=\u001b[0m\u001b[0;36m50\u001b[0m\u001b[0;34m,\u001b[0m \u001b[0mverbose\u001b[0m \u001b[0;34m=\u001b[0m\u001b[0;36m2\u001b[0m\u001b[0;34m,\u001b[0m \u001b[0mvalidation_split\u001b[0m\u001b[0;34m=\u001b[0m\u001b[0;36m0.1\u001b[0m\u001b[0;34m)\u001b[0m\u001b[0;34m\u001b[0m\u001b[0;34m\u001b[0m\u001b[0m\n\u001b[0m",
            "\u001b[0;32m/usr/local/lib/python3.6/dist-packages/keras/engine/training.py\u001b[0m in \u001b[0;36mfit\u001b[0;34m(self, x, y, batch_size, epochs, verbose, callbacks, validation_split, validation_data, shuffle, class_weight, sample_weight, initial_epoch, steps_per_epoch, validation_steps, **kwargs)\u001b[0m\n\u001b[1;32m   1037\u001b[0m                                         \u001b[0minitial_epoch\u001b[0m\u001b[0;34m=\u001b[0m\u001b[0minitial_epoch\u001b[0m\u001b[0;34m,\u001b[0m\u001b[0;34m\u001b[0m\u001b[0;34m\u001b[0m\u001b[0m\n\u001b[1;32m   1038\u001b[0m                                         \u001b[0msteps_per_epoch\u001b[0m\u001b[0;34m=\u001b[0m\u001b[0msteps_per_epoch\u001b[0m\u001b[0;34m,\u001b[0m\u001b[0;34m\u001b[0m\u001b[0;34m\u001b[0m\u001b[0m\n\u001b[0;32m-> 1039\u001b[0;31m                                         validation_steps=validation_steps)\n\u001b[0m\u001b[1;32m   1040\u001b[0m \u001b[0;34m\u001b[0m\u001b[0m\n\u001b[1;32m   1041\u001b[0m     def evaluate(self, x=None, y=None,\n",
            "\u001b[0;32m/usr/local/lib/python3.6/dist-packages/keras/engine/training_arrays.py\u001b[0m in \u001b[0;36mfit_loop\u001b[0;34m(model, f, ins, out_labels, batch_size, epochs, verbose, callbacks, val_f, val_ins, shuffle, callback_metrics, initial_epoch, steps_per_epoch, validation_steps)\u001b[0m\n\u001b[1;32m    197\u001b[0m                     \u001b[0mins_batch\u001b[0m\u001b[0;34m[\u001b[0m\u001b[0mi\u001b[0m\u001b[0;34m]\u001b[0m \u001b[0;34m=\u001b[0m \u001b[0mins_batch\u001b[0m\u001b[0;34m[\u001b[0m\u001b[0mi\u001b[0m\u001b[0;34m]\u001b[0m\u001b[0;34m.\u001b[0m\u001b[0mtoarray\u001b[0m\u001b[0;34m(\u001b[0m\u001b[0;34m)\u001b[0m\u001b[0;34m\u001b[0m\u001b[0;34m\u001b[0m\u001b[0m\n\u001b[1;32m    198\u001b[0m \u001b[0;34m\u001b[0m\u001b[0m\n\u001b[0;32m--> 199\u001b[0;31m                 \u001b[0mouts\u001b[0m \u001b[0;34m=\u001b[0m \u001b[0mf\u001b[0m\u001b[0;34m(\u001b[0m\u001b[0mins_batch\u001b[0m\u001b[0;34m)\u001b[0m\u001b[0;34m\u001b[0m\u001b[0;34m\u001b[0m\u001b[0m\n\u001b[0m\u001b[1;32m    200\u001b[0m                 \u001b[0mouts\u001b[0m \u001b[0;34m=\u001b[0m \u001b[0mto_list\u001b[0m\u001b[0;34m(\u001b[0m\u001b[0mouts\u001b[0m\u001b[0;34m)\u001b[0m\u001b[0;34m\u001b[0m\u001b[0;34m\u001b[0m\u001b[0m\n\u001b[1;32m    201\u001b[0m                 \u001b[0;32mfor\u001b[0m \u001b[0ml\u001b[0m\u001b[0;34m,\u001b[0m \u001b[0mo\u001b[0m \u001b[0;32min\u001b[0m \u001b[0mzip\u001b[0m\u001b[0;34m(\u001b[0m\u001b[0mout_labels\u001b[0m\u001b[0;34m,\u001b[0m \u001b[0mouts\u001b[0m\u001b[0;34m)\u001b[0m\u001b[0;34m:\u001b[0m\u001b[0;34m\u001b[0m\u001b[0;34m\u001b[0m\u001b[0m\n",
            "\u001b[0;32m/usr/local/lib/python3.6/dist-packages/keras/backend/tensorflow_backend.py\u001b[0m in \u001b[0;36m__call__\u001b[0;34m(self, inputs)\u001b[0m\n\u001b[1;32m   2713\u001b[0m                 \u001b[0;32mreturn\u001b[0m \u001b[0mself\u001b[0m\u001b[0;34m.\u001b[0m\u001b[0m_legacy_call\u001b[0m\u001b[0;34m(\u001b[0m\u001b[0minputs\u001b[0m\u001b[0;34m)\u001b[0m\u001b[0;34m\u001b[0m\u001b[0;34m\u001b[0m\u001b[0m\n\u001b[1;32m   2714\u001b[0m \u001b[0;34m\u001b[0m\u001b[0m\n\u001b[0;32m-> 2715\u001b[0;31m             \u001b[0;32mreturn\u001b[0m \u001b[0mself\u001b[0m\u001b[0;34m.\u001b[0m\u001b[0m_call\u001b[0m\u001b[0;34m(\u001b[0m\u001b[0minputs\u001b[0m\u001b[0;34m)\u001b[0m\u001b[0;34m\u001b[0m\u001b[0;34m\u001b[0m\u001b[0m\n\u001b[0m\u001b[1;32m   2716\u001b[0m         \u001b[0;32melse\u001b[0m\u001b[0;34m:\u001b[0m\u001b[0;34m\u001b[0m\u001b[0;34m\u001b[0m\u001b[0m\n\u001b[1;32m   2717\u001b[0m             \u001b[0;32mif\u001b[0m \u001b[0mpy_any\u001b[0m\u001b[0;34m(\u001b[0m\u001b[0mis_tensor\u001b[0m\u001b[0;34m(\u001b[0m\u001b[0mx\u001b[0m\u001b[0;34m)\u001b[0m \u001b[0;32mfor\u001b[0m \u001b[0mx\u001b[0m \u001b[0;32min\u001b[0m \u001b[0minputs\u001b[0m\u001b[0;34m)\u001b[0m\u001b[0;34m:\u001b[0m\u001b[0;34m\u001b[0m\u001b[0;34m\u001b[0m\u001b[0m\n",
            "\u001b[0;32m/usr/local/lib/python3.6/dist-packages/keras/backend/tensorflow_backend.py\u001b[0m in \u001b[0;36m_call\u001b[0;34m(self, inputs)\u001b[0m\n\u001b[1;32m   2673\u001b[0m             \u001b[0mfetched\u001b[0m \u001b[0;34m=\u001b[0m \u001b[0mself\u001b[0m\u001b[0;34m.\u001b[0m\u001b[0m_callable_fn\u001b[0m\u001b[0;34m(\u001b[0m\u001b[0;34m*\u001b[0m\u001b[0marray_vals\u001b[0m\u001b[0;34m,\u001b[0m \u001b[0mrun_metadata\u001b[0m\u001b[0;34m=\u001b[0m\u001b[0mself\u001b[0m\u001b[0;34m.\u001b[0m\u001b[0mrun_metadata\u001b[0m\u001b[0;34m)\u001b[0m\u001b[0;34m\u001b[0m\u001b[0;34m\u001b[0m\u001b[0m\n\u001b[1;32m   2674\u001b[0m         \u001b[0;32melse\u001b[0m\u001b[0;34m:\u001b[0m\u001b[0;34m\u001b[0m\u001b[0;34m\u001b[0m\u001b[0m\n\u001b[0;32m-> 2675\u001b[0;31m             \u001b[0mfetched\u001b[0m \u001b[0;34m=\u001b[0m \u001b[0mself\u001b[0m\u001b[0;34m.\u001b[0m\u001b[0m_callable_fn\u001b[0m\u001b[0;34m(\u001b[0m\u001b[0;34m*\u001b[0m\u001b[0marray_vals\u001b[0m\u001b[0;34m)\u001b[0m\u001b[0;34m\u001b[0m\u001b[0;34m\u001b[0m\u001b[0m\n\u001b[0m\u001b[1;32m   2676\u001b[0m         \u001b[0;32mreturn\u001b[0m \u001b[0mfetched\u001b[0m\u001b[0;34m[\u001b[0m\u001b[0;34m:\u001b[0m\u001b[0mlen\u001b[0m\u001b[0;34m(\u001b[0m\u001b[0mself\u001b[0m\u001b[0;34m.\u001b[0m\u001b[0moutputs\u001b[0m\u001b[0;34m)\u001b[0m\u001b[0;34m]\u001b[0m\u001b[0;34m\u001b[0m\u001b[0;34m\u001b[0m\u001b[0m\n\u001b[1;32m   2677\u001b[0m \u001b[0;34m\u001b[0m\u001b[0m\n",
            "\u001b[0;32m/usr/local/lib/python3.6/dist-packages/tensorflow/python/client/session.py\u001b[0m in \u001b[0;36m__call__\u001b[0;34m(self, *args, **kwargs)\u001b[0m\n\u001b[1;32m   1456\u001b[0m         ret = tf_session.TF_SessionRunCallable(self._session._session,\n\u001b[1;32m   1457\u001b[0m                                                \u001b[0mself\u001b[0m\u001b[0;34m.\u001b[0m\u001b[0m_handle\u001b[0m\u001b[0;34m,\u001b[0m \u001b[0margs\u001b[0m\u001b[0;34m,\u001b[0m\u001b[0;34m\u001b[0m\u001b[0;34m\u001b[0m\u001b[0m\n\u001b[0;32m-> 1458\u001b[0;31m                                                run_metadata_ptr)\n\u001b[0m\u001b[1;32m   1459\u001b[0m         \u001b[0;32mif\u001b[0m \u001b[0mrun_metadata\u001b[0m\u001b[0;34m:\u001b[0m\u001b[0;34m\u001b[0m\u001b[0;34m\u001b[0m\u001b[0m\n\u001b[1;32m   1460\u001b[0m           \u001b[0mproto_data\u001b[0m \u001b[0;34m=\u001b[0m \u001b[0mtf_session\u001b[0m\u001b[0;34m.\u001b[0m\u001b[0mTF_GetBuffer\u001b[0m\u001b[0;34m(\u001b[0m\u001b[0mrun_metadata_ptr\u001b[0m\u001b[0;34m)\u001b[0m\u001b[0;34m\u001b[0m\u001b[0;34m\u001b[0m\u001b[0m\n",
            "\u001b[0;31mKeyboardInterrupt\u001b[0m: "
          ]
        }
      ]
    },
    {
      "cell_type": "markdown",
      "metadata": {
        "id": "nmhT9oupalTG",
        "colab_type": "text"
      },
      "source": [
        "# Using VGG **Model**\n",
        "loading the model\n"
      ]
    },
    {
      "cell_type": "markdown",
      "metadata": {
        "id": "Alr3XwICNRSF",
        "colab_type": "text"
      },
      "source": [
        "include_top (True): Whether or not to include the output layers for the model. You don’t need these if you are fitting the model on your own problem.\n",
        "\n",
        "weights (‘imagenet‘): What weights to load. You can specify None to not load pre-trained weights if you are interested in training the model yourself from scratch.\n",
        "\n",
        "input_tensor (None): A new input layer if you intend to fit the model on new data of a different size.\n",
        "\n",
        "input_shape (None): The size of images that the model is expected to take if you change the input layer.\n",
        "\n",
        "classes (1000): The number of classes (e.g. size of output vector) for the model.\n"
      ]
    },
    {
      "cell_type": "code",
      "metadata": {
        "id": "XFY7HOcianIH",
        "colab_type": "code",
        "outputId": "c1eb7006-40b1-41cc-f68c-5c5c7e7d92c1",
        "colab": {
          "base_uri": "https://localhost:8080/",
          "height": 817
        }
      },
      "source": [
        "from keras import applications\n",
        "# If you want to specify input tensor\n",
        "from keras.layers import Input\n",
        "input_tensor = Input(shape=(35, 40, 3))\n",
        "vgg_model = applications.VGG16(weights='imagenet',\n",
        "                               include_top=False,\n",
        "                               input_tensor=input_tensor)\n",
        "\n",
        "# To see the models' architecture and layer names, run the following\n",
        "vgg_model.summary()"
      ],
      "execution_count": 0,
      "outputs": [
        {
          "output_type": "stream",
          "text": [
            "_________________________________________________________________\n",
            "Layer (type)                 Output Shape              Param #   \n",
            "=================================================================\n",
            "input_3 (InputLayer)         (None, 35, 40, 3)         0         \n",
            "_________________________________________________________________\n",
            "block1_conv1 (Conv2D)        (None, 35, 40, 64)        1792      \n",
            "_________________________________________________________________\n",
            "block1_conv2 (Conv2D)        (None, 35, 40, 64)        36928     \n",
            "_________________________________________________________________\n",
            "block1_pool (MaxPooling2D)   (None, 17, 20, 64)        0         \n",
            "_________________________________________________________________\n",
            "block2_conv1 (Conv2D)        (None, 17, 20, 128)       73856     \n",
            "_________________________________________________________________\n",
            "block2_conv2 (Conv2D)        (None, 17, 20, 128)       147584    \n",
            "_________________________________________________________________\n",
            "block2_pool (MaxPooling2D)   (None, 8, 10, 128)        0         \n",
            "_________________________________________________________________\n",
            "block3_conv1 (Conv2D)        (None, 8, 10, 256)        295168    \n",
            "_________________________________________________________________\n",
            "block3_conv2 (Conv2D)        (None, 8, 10, 256)        590080    \n",
            "_________________________________________________________________\n",
            "block3_conv3 (Conv2D)        (None, 8, 10, 256)        590080    \n",
            "_________________________________________________________________\n",
            "block3_pool (MaxPooling2D)   (None, 4, 5, 256)         0         \n",
            "_________________________________________________________________\n",
            "block4_conv1 (Conv2D)        (None, 4, 5, 512)         1180160   \n",
            "_________________________________________________________________\n",
            "block4_conv2 (Conv2D)        (None, 4, 5, 512)         2359808   \n",
            "_________________________________________________________________\n",
            "block4_conv3 (Conv2D)        (None, 4, 5, 512)         2359808   \n",
            "_________________________________________________________________\n",
            "block4_pool (MaxPooling2D)   (None, 2, 2, 512)         0         \n",
            "_________________________________________________________________\n",
            "block5_conv1 (Conv2D)        (None, 2, 2, 512)         2359808   \n",
            "_________________________________________________________________\n",
            "block5_conv2 (Conv2D)        (None, 2, 2, 512)         2359808   \n",
            "_________________________________________________________________\n",
            "block5_conv3 (Conv2D)        (None, 2, 2, 512)         2359808   \n",
            "_________________________________________________________________\n",
            "block5_pool (MaxPooling2D)   (None, 1, 1, 512)         0         \n",
            "=================================================================\n",
            "Total params: 14,714,688\n",
            "Trainable params: 14,714,688\n",
            "Non-trainable params: 0\n",
            "_________________________________________________________________\n"
          ],
          "name": "stdout"
        }
      ]
    },
    {
      "cell_type": "markdown",
      "metadata": {
        "id": "ZJMvA0e92Oar",
        "colab_type": "text"
      },
      "source": [
        "create map to map each layer in vgg to name"
      ]
    },
    {
      "cell_type": "code",
      "metadata": {
        "id": "v98NTgsQ2T7z",
        "colab_type": "code",
        "outputId": "f007bb69-d39e-4225-cd7e-35f9a3e10042",
        "colab": {
          "base_uri": "https://localhost:8080/",
          "height": 55
        }
      },
      "source": [
        "# Creating dictionary that maps layer names to the layers\n",
        "layer_dict = dict([(layer.name, layer) for layer in vgg_model.layers])\n",
        "\n",
        "print(layer_dict)"
      ],
      "execution_count": 0,
      "outputs": [
        {
          "output_type": "stream",
          "text": [
            "{'input_3': <keras.engine.input_layer.InputLayer object at 0x7f671dd2f470>, 'block1_conv1': <keras.layers.convolutional.Conv2D object at 0x7f671dd2f908>, 'block1_conv2': <keras.layers.convolutional.Conv2D object at 0x7f671dd1e198>, 'block1_pool': <keras.layers.pooling.MaxPooling2D object at 0x7f671dc9f048>, 'block2_conv1': <keras.layers.convolutional.Conv2D object at 0x7f671dc7e978>, 'block2_conv2': <keras.layers.convolutional.Conv2D object at 0x7f671dc37198>, 'block2_pool': <keras.layers.pooling.MaxPooling2D object at 0x7f671dc4a780>, 'block3_conv1': <keras.layers.convolutional.Conv2D object at 0x7f671dc4a8d0>, 'block3_conv2': <keras.layers.convolutional.Conv2D object at 0x7f671dbf95c0>, 'block3_conv3': <keras.layers.convolutional.Conv2D object at 0x7f671dc135f8>, 'block3_pool': <keras.layers.pooling.MaxPooling2D object at 0x7f671dc23b00>, 'block4_conv1': <keras.layers.convolutional.Conv2D object at 0x7f671dbbe160>, 'block4_conv2': <keras.layers.convolutional.Conv2D object at 0x7f671dbd8b38>, 'block4_conv3': <keras.layers.convolutional.Conv2D object at 0x7f671dbeca58>, 'block4_pool': <keras.layers.pooling.MaxPooling2D object at 0x7f671db99d68>, 'block5_conv1': <keras.layers.convolutional.Conv2D object at 0x7f671db99da0>, 'block5_conv2': <keras.layers.convolutional.Conv2D object at 0x7f671db46400>, 'block5_conv3': <keras.layers.convolutional.Conv2D object at 0x7f671db46c88>, 'block5_pool': <keras.layers.pooling.MaxPooling2D object at 0x7f671daf7c50>}\n"
          ],
          "name": "stdout"
        }
      ]
    },
    {
      "cell_type": "code",
      "metadata": {
        "id": "RTQJvm0MdzG9",
        "colab_type": "code",
        "outputId": "da76fe30-90c6-439e-ddaf-e5115dfd47c8",
        "colab": {
          "base_uri": "https://localhost:8080/",
          "height": 570
        }
      },
      "source": [
        "from keras.layers import Dense, Activation, Flatten\n",
        "# Getting output tensor of the last VGG layer that we want to include\n",
        "x = Flatten()( layer_dict['block2_pool'].output)\n",
        "x = Dense(256, activation='relu')(x)\n",
        "x = Dense(26, activation='softmax')(x)\n",
        "# Creating new model. Please note that this is NOT a Sequential() model.\n",
        "from keras.models import Model\n",
        "custom_model = Model(input=vgg_model.input, output=x)\n",
        "print(custom_model.summary())"
      ],
      "execution_count": 0,
      "outputs": [
        {
          "output_type": "stream",
          "text": [
            "_________________________________________________________________\n",
            "Layer (type)                 Output Shape              Param #   \n",
            "=================================================================\n",
            "input_3 (InputLayer)         (None, 35, 40, 3)         0         \n",
            "_________________________________________________________________\n",
            "block1_conv1 (Conv2D)        (None, 35, 40, 64)        1792      \n",
            "_________________________________________________________________\n",
            "block1_conv2 (Conv2D)        (None, 35, 40, 64)        36928     \n",
            "_________________________________________________________________\n",
            "block1_pool (MaxPooling2D)   (None, 17, 20, 64)        0         \n",
            "_________________________________________________________________\n",
            "block2_conv1 (Conv2D)        (None, 17, 20, 128)       73856     \n",
            "_________________________________________________________________\n",
            "block2_conv2 (Conv2D)        (None, 17, 20, 128)       147584    \n",
            "_________________________________________________________________\n",
            "block2_pool (MaxPooling2D)   (None, 8, 10, 128)        0         \n",
            "_________________________________________________________________\n",
            "flatten_3 (Flatten)          (None, 10240)             0         \n",
            "_________________________________________________________________\n",
            "dense_5 (Dense)              (None, 256)               2621696   \n",
            "_________________________________________________________________\n",
            "dense_6 (Dense)              (None, 26)                6682      \n",
            "=================================================================\n",
            "Total params: 2,888,538\n",
            "Trainable params: 2,888,538\n",
            "Non-trainable params: 0\n",
            "_________________________________________________________________\n",
            "None\n"
          ],
          "name": "stdout"
        },
        {
          "output_type": "stream",
          "text": [
            "/usr/local/lib/python3.6/dist-packages/ipykernel_launcher.py:8: UserWarning: Update your `Model` call to the Keras 2 API: `Model(inputs=Tensor(\"in..., outputs=Tensor(\"de...)`\n",
            "  \n"
          ],
          "name": "stderr"
        }
      ]
    },
    {
      "cell_type": "code",
      "metadata": {
        "id": "5Kr4n7ADTpGu",
        "colab_type": "code",
        "outputId": "70340ea4-2a28-4338-ef9d-3a3b6df48a16",
        "colab": {
          "base_uri": "https://localhost:8080/",
          "height": 35
        }
      },
      "source": [
        "from keras.optimizers import adam\n",
        "op = keras.optimizers.Adam(lr=0.001, beta_1=0.9, beta_2=0.999, epsilon=1e-8, decay=0.0, amsgrad=False)\n",
        "custom_model.compile(optimizer=op, loss='sparse_categorical_crossentropy',metrics=['accuracy'])\n",
        "print(X_train.shape)"
      ],
      "execution_count": 0,
      "outputs": [
        {
          "output_type": "stream",
          "text": [
            "(3787, 35, 40, 3)\n"
          ],
          "name": "stdout"
        }
      ]
    },
    {
      "cell_type": "code",
      "metadata": {
        "id": "nO1N_WfmfFLH",
        "colab_type": "code",
        "outputId": "84a7a8dd-2fd0-4c50-b3d2-9d8d8a433946",
        "colab": {
          "base_uri": "https://localhost:8080/",
          "height": 1000
        }
      },
      "source": [
        "custom_model.fit(X_train, y_train, epochs=60, batch_size=50, verbose =2, validation_split=0.1)"
      ],
      "execution_count": 0,
      "outputs": [
        {
          "output_type": "stream",
          "text": [
            "Train on 3408 samples, validate on 379 samples\n",
            "Epoch 1/60\n",
            " - 68s - loss: 15.4854 - acc: 0.0358 - val_loss: 15.5652 - val_acc: 0.0343\n",
            "Epoch 2/60\n",
            " - 67s - loss: 15.4938 - acc: 0.0387 - val_loss: 15.5652 - val_acc: 0.0343\n",
            "Epoch 3/60\n",
            " - 67s - loss: 15.4938 - acc: 0.0387 - val_loss: 15.5652 - val_acc: 0.0343\n",
            "Epoch 4/60\n",
            " - 67s - loss: 15.4938 - acc: 0.0387 - val_loss: 15.5652 - val_acc: 0.0343\n",
            "Epoch 5/60\n",
            " - 67s - loss: 15.4938 - acc: 0.0387 - val_loss: 15.5652 - val_acc: 0.0343\n",
            "Epoch 6/60\n",
            " - 67s - loss: 15.4938 - acc: 0.0387 - val_loss: 15.5652 - val_acc: 0.0343\n",
            "Epoch 7/60\n",
            " - 67s - loss: 15.4938 - acc: 0.0387 - val_loss: 15.5652 - val_acc: 0.0343\n",
            "Epoch 8/60\n",
            " - 67s - loss: 15.4938 - acc: 0.0387 - val_loss: 15.5652 - val_acc: 0.0343\n",
            "Epoch 9/60\n",
            " - 67s - loss: 15.4938 - acc: 0.0387 - val_loss: 15.5652 - val_acc: 0.0343\n",
            "Epoch 10/60\n",
            " - 67s - loss: 15.4938 - acc: 0.0387 - val_loss: 15.5652 - val_acc: 0.0343\n",
            "Epoch 11/60\n",
            " - 67s - loss: 15.4938 - acc: 0.0387 - val_loss: 15.5652 - val_acc: 0.0343\n",
            "Epoch 12/60\n",
            " - 67s - loss: 15.4938 - acc: 0.0387 - val_loss: 15.5652 - val_acc: 0.0343\n",
            "Epoch 13/60\n",
            " - 67s - loss: 15.4938 - acc: 0.0387 - val_loss: 15.5652 - val_acc: 0.0343\n",
            "Epoch 14/60\n",
            " - 67s - loss: 15.4938 - acc: 0.0387 - val_loss: 15.5652 - val_acc: 0.0343\n",
            "Epoch 15/60\n",
            " - 67s - loss: 15.4938 - acc: 0.0387 - val_loss: 15.5652 - val_acc: 0.0343\n",
            "Epoch 16/60\n",
            " - 67s - loss: 15.4938 - acc: 0.0387 - val_loss: 15.5652 - val_acc: 0.0343\n",
            "Epoch 17/60\n",
            " - 67s - loss: 15.4938 - acc: 0.0387 - val_loss: 15.5652 - val_acc: 0.0343\n",
            "Epoch 18/60\n",
            " - 67s - loss: 15.4938 - acc: 0.0387 - val_loss: 15.5652 - val_acc: 0.0343\n",
            "Epoch 19/60\n",
            " - 67s - loss: 15.4938 - acc: 0.0387 - val_loss: 15.5652 - val_acc: 0.0343\n",
            "Epoch 20/60\n"
          ],
          "name": "stdout"
        },
        {
          "output_type": "error",
          "ename": "KeyboardInterrupt",
          "evalue": "ignored",
          "traceback": [
            "\u001b[0;31m---------------------------------------------------------------------------\u001b[0m",
            "\u001b[0;31mKeyboardInterrupt\u001b[0m                         Traceback (most recent call last)",
            "\u001b[0;32m<ipython-input-38-2e8639641f4b>\u001b[0m in \u001b[0;36m<module>\u001b[0;34m()\u001b[0m\n\u001b[0;32m----> 1\u001b[0;31m \u001b[0mcustom_model\u001b[0m\u001b[0;34m.\u001b[0m\u001b[0mfit\u001b[0m\u001b[0;34m(\u001b[0m\u001b[0mX_train\u001b[0m\u001b[0;34m,\u001b[0m \u001b[0my_train\u001b[0m\u001b[0;34m,\u001b[0m \u001b[0mepochs\u001b[0m\u001b[0;34m=\u001b[0m\u001b[0;36m60\u001b[0m\u001b[0;34m,\u001b[0m \u001b[0mbatch_size\u001b[0m\u001b[0;34m=\u001b[0m\u001b[0;36m50\u001b[0m\u001b[0;34m,\u001b[0m \u001b[0mverbose\u001b[0m \u001b[0;34m=\u001b[0m\u001b[0;36m2\u001b[0m\u001b[0;34m,\u001b[0m \u001b[0mvalidation_split\u001b[0m\u001b[0;34m=\u001b[0m\u001b[0;36m0.1\u001b[0m\u001b[0;34m)\u001b[0m\u001b[0;34m\u001b[0m\u001b[0;34m\u001b[0m\u001b[0m\n\u001b[0m",
            "\u001b[0;32m/usr/local/lib/python3.6/dist-packages/keras/engine/training.py\u001b[0m in \u001b[0;36mfit\u001b[0;34m(self, x, y, batch_size, epochs, verbose, callbacks, validation_split, validation_data, shuffle, class_weight, sample_weight, initial_epoch, steps_per_epoch, validation_steps, **kwargs)\u001b[0m\n\u001b[1;32m   1037\u001b[0m                                         \u001b[0minitial_epoch\u001b[0m\u001b[0;34m=\u001b[0m\u001b[0minitial_epoch\u001b[0m\u001b[0;34m,\u001b[0m\u001b[0;34m\u001b[0m\u001b[0;34m\u001b[0m\u001b[0m\n\u001b[1;32m   1038\u001b[0m                                         \u001b[0msteps_per_epoch\u001b[0m\u001b[0;34m=\u001b[0m\u001b[0msteps_per_epoch\u001b[0m\u001b[0;34m,\u001b[0m\u001b[0;34m\u001b[0m\u001b[0;34m\u001b[0m\u001b[0m\n\u001b[0;32m-> 1039\u001b[0;31m                                         validation_steps=validation_steps)\n\u001b[0m\u001b[1;32m   1040\u001b[0m \u001b[0;34m\u001b[0m\u001b[0m\n\u001b[1;32m   1041\u001b[0m     def evaluate(self, x=None, y=None,\n",
            "\u001b[0;32m/usr/local/lib/python3.6/dist-packages/keras/engine/training_arrays.py\u001b[0m in \u001b[0;36mfit_loop\u001b[0;34m(model, f, ins, out_labels, batch_size, epochs, verbose, callbacks, val_f, val_ins, shuffle, callback_metrics, initial_epoch, steps_per_epoch, validation_steps)\u001b[0m\n\u001b[1;32m    197\u001b[0m                     \u001b[0mins_batch\u001b[0m\u001b[0;34m[\u001b[0m\u001b[0mi\u001b[0m\u001b[0;34m]\u001b[0m \u001b[0;34m=\u001b[0m \u001b[0mins_batch\u001b[0m\u001b[0;34m[\u001b[0m\u001b[0mi\u001b[0m\u001b[0;34m]\u001b[0m\u001b[0;34m.\u001b[0m\u001b[0mtoarray\u001b[0m\u001b[0;34m(\u001b[0m\u001b[0;34m)\u001b[0m\u001b[0;34m\u001b[0m\u001b[0;34m\u001b[0m\u001b[0m\n\u001b[1;32m    198\u001b[0m \u001b[0;34m\u001b[0m\u001b[0m\n\u001b[0;32m--> 199\u001b[0;31m                 \u001b[0mouts\u001b[0m \u001b[0;34m=\u001b[0m \u001b[0mf\u001b[0m\u001b[0;34m(\u001b[0m\u001b[0mins_batch\u001b[0m\u001b[0;34m)\u001b[0m\u001b[0;34m\u001b[0m\u001b[0;34m\u001b[0m\u001b[0m\n\u001b[0m\u001b[1;32m    200\u001b[0m                 \u001b[0mouts\u001b[0m \u001b[0;34m=\u001b[0m \u001b[0mto_list\u001b[0m\u001b[0;34m(\u001b[0m\u001b[0mouts\u001b[0m\u001b[0;34m)\u001b[0m\u001b[0;34m\u001b[0m\u001b[0;34m\u001b[0m\u001b[0m\n\u001b[1;32m    201\u001b[0m                 \u001b[0;32mfor\u001b[0m \u001b[0ml\u001b[0m\u001b[0;34m,\u001b[0m \u001b[0mo\u001b[0m \u001b[0;32min\u001b[0m \u001b[0mzip\u001b[0m\u001b[0;34m(\u001b[0m\u001b[0mout_labels\u001b[0m\u001b[0;34m,\u001b[0m \u001b[0mouts\u001b[0m\u001b[0;34m)\u001b[0m\u001b[0;34m:\u001b[0m\u001b[0;34m\u001b[0m\u001b[0;34m\u001b[0m\u001b[0m\n",
            "\u001b[0;32m/usr/local/lib/python3.6/dist-packages/keras/backend/tensorflow_backend.py\u001b[0m in \u001b[0;36m__call__\u001b[0;34m(self, inputs)\u001b[0m\n\u001b[1;32m   2713\u001b[0m                 \u001b[0;32mreturn\u001b[0m \u001b[0mself\u001b[0m\u001b[0;34m.\u001b[0m\u001b[0m_legacy_call\u001b[0m\u001b[0;34m(\u001b[0m\u001b[0minputs\u001b[0m\u001b[0;34m)\u001b[0m\u001b[0;34m\u001b[0m\u001b[0;34m\u001b[0m\u001b[0m\n\u001b[1;32m   2714\u001b[0m \u001b[0;34m\u001b[0m\u001b[0m\n\u001b[0;32m-> 2715\u001b[0;31m             \u001b[0;32mreturn\u001b[0m \u001b[0mself\u001b[0m\u001b[0;34m.\u001b[0m\u001b[0m_call\u001b[0m\u001b[0;34m(\u001b[0m\u001b[0minputs\u001b[0m\u001b[0;34m)\u001b[0m\u001b[0;34m\u001b[0m\u001b[0;34m\u001b[0m\u001b[0m\n\u001b[0m\u001b[1;32m   2716\u001b[0m         \u001b[0;32melse\u001b[0m\u001b[0;34m:\u001b[0m\u001b[0;34m\u001b[0m\u001b[0;34m\u001b[0m\u001b[0m\n\u001b[1;32m   2717\u001b[0m             \u001b[0;32mif\u001b[0m \u001b[0mpy_any\u001b[0m\u001b[0;34m(\u001b[0m\u001b[0mis_tensor\u001b[0m\u001b[0;34m(\u001b[0m\u001b[0mx\u001b[0m\u001b[0;34m)\u001b[0m \u001b[0;32mfor\u001b[0m \u001b[0mx\u001b[0m \u001b[0;32min\u001b[0m \u001b[0minputs\u001b[0m\u001b[0;34m)\u001b[0m\u001b[0;34m:\u001b[0m\u001b[0;34m\u001b[0m\u001b[0;34m\u001b[0m\u001b[0m\n",
            "\u001b[0;32m/usr/local/lib/python3.6/dist-packages/keras/backend/tensorflow_backend.py\u001b[0m in \u001b[0;36m_call\u001b[0;34m(self, inputs)\u001b[0m\n\u001b[1;32m   2673\u001b[0m             \u001b[0mfetched\u001b[0m \u001b[0;34m=\u001b[0m \u001b[0mself\u001b[0m\u001b[0;34m.\u001b[0m\u001b[0m_callable_fn\u001b[0m\u001b[0;34m(\u001b[0m\u001b[0;34m*\u001b[0m\u001b[0marray_vals\u001b[0m\u001b[0;34m,\u001b[0m \u001b[0mrun_metadata\u001b[0m\u001b[0;34m=\u001b[0m\u001b[0mself\u001b[0m\u001b[0;34m.\u001b[0m\u001b[0mrun_metadata\u001b[0m\u001b[0;34m)\u001b[0m\u001b[0;34m\u001b[0m\u001b[0;34m\u001b[0m\u001b[0m\n\u001b[1;32m   2674\u001b[0m         \u001b[0;32melse\u001b[0m\u001b[0;34m:\u001b[0m\u001b[0;34m\u001b[0m\u001b[0;34m\u001b[0m\u001b[0m\n\u001b[0;32m-> 2675\u001b[0;31m             \u001b[0mfetched\u001b[0m \u001b[0;34m=\u001b[0m \u001b[0mself\u001b[0m\u001b[0;34m.\u001b[0m\u001b[0m_callable_fn\u001b[0m\u001b[0;34m(\u001b[0m\u001b[0;34m*\u001b[0m\u001b[0marray_vals\u001b[0m\u001b[0;34m)\u001b[0m\u001b[0;34m\u001b[0m\u001b[0;34m\u001b[0m\u001b[0m\n\u001b[0m\u001b[1;32m   2676\u001b[0m         \u001b[0;32mreturn\u001b[0m \u001b[0mfetched\u001b[0m\u001b[0;34m[\u001b[0m\u001b[0;34m:\u001b[0m\u001b[0mlen\u001b[0m\u001b[0;34m(\u001b[0m\u001b[0mself\u001b[0m\u001b[0;34m.\u001b[0m\u001b[0moutputs\u001b[0m\u001b[0;34m)\u001b[0m\u001b[0;34m]\u001b[0m\u001b[0;34m\u001b[0m\u001b[0;34m\u001b[0m\u001b[0m\n\u001b[1;32m   2677\u001b[0m \u001b[0;34m\u001b[0m\u001b[0m\n",
            "\u001b[0;32m/usr/local/lib/python3.6/dist-packages/tensorflow/python/client/session.py\u001b[0m in \u001b[0;36m__call__\u001b[0;34m(self, *args, **kwargs)\u001b[0m\n\u001b[1;32m   1456\u001b[0m         ret = tf_session.TF_SessionRunCallable(self._session._session,\n\u001b[1;32m   1457\u001b[0m                                                \u001b[0mself\u001b[0m\u001b[0;34m.\u001b[0m\u001b[0m_handle\u001b[0m\u001b[0;34m,\u001b[0m \u001b[0margs\u001b[0m\u001b[0;34m,\u001b[0m\u001b[0;34m\u001b[0m\u001b[0;34m\u001b[0m\u001b[0m\n\u001b[0;32m-> 1458\u001b[0;31m                                                run_metadata_ptr)\n\u001b[0m\u001b[1;32m   1459\u001b[0m         \u001b[0;32mif\u001b[0m \u001b[0mrun_metadata\u001b[0m\u001b[0;34m:\u001b[0m\u001b[0;34m\u001b[0m\u001b[0;34m\u001b[0m\u001b[0m\n\u001b[1;32m   1460\u001b[0m           \u001b[0mproto_data\u001b[0m \u001b[0;34m=\u001b[0m \u001b[0mtf_session\u001b[0m\u001b[0;34m.\u001b[0m\u001b[0mTF_GetBuffer\u001b[0m\u001b[0;34m(\u001b[0m\u001b[0mrun_metadata_ptr\u001b[0m\u001b[0;34m)\u001b[0m\u001b[0;34m\u001b[0m\u001b[0;34m\u001b[0m\u001b[0m\n",
            "\u001b[0;31mKeyboardInterrupt\u001b[0m: "
          ]
        }
      ]
    }
  ]
}